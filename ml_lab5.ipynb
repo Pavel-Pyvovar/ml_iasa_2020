{
  "nbformat": 4,
  "nbformat_minor": 0,
  "metadata": {
    "colab": {
      "name": "ml_lab5.ipynb",
      "provenance": [],
      "collapsed_sections": [],
      "mount_file_id": "1fXSyQM2nEXQPz7HLBZRGWVkTU1LtyrGk",
      "authorship_tag": "ABX9TyN/41usjwnVV2jyRajrMMwk",
      "include_colab_link": true
    },
    "kernelspec": {
      "name": "python3",
      "display_name": "Python 3"
    }
  },
  "cells": [
    {
      "cell_type": "markdown",
      "metadata": {
        "id": "view-in-github",
        "colab_type": "text"
      },
      "source": [
        "<a href=\"https://colab.research.google.com/github/Pavel-Pyvovar/ml_iasa_2020/blob/master/ml_lab5.ipynb\" target=\"_parent\"><img src=\"https://colab.research.google.com/assets/colab-badge.svg\" alt=\"Open In Colab\"/></a>"
      ]
    },
    {
      "cell_type": "markdown",
      "metadata": {
        "id": "SNpzOKUxWOlh",
        "colab_type": "text"
      },
      "source": [
        "# **Практикум 5. Побудова асоцiативних правил за алгоритмами Apriori та FP-росту**\n",
        "\n",
        "### Варіант 14\n",
        "\n",
        "# Хід виконання роботи\n",
        "\n",
        "1. Взяти файл з даними у вiдповiдностi з варiантом.\n",
        "\n",
        "2. Побудувати частi набори та асоцiативнi правила (АП), використовуючи алгоритм `Apriori`. Дослiдити множини АП залежно вiд параметрiв побудови АП: мiнiмальної пiдтримки `min_support`, мiнiмальної достовiрностi `min_threshold` `confidence` та максимальної потужностi частих наборiв `max_len`. Пiдiбрати значення параметрiв алгоритму Apriori, якi призводять до значущих АП. АП $R_{k}$ вважати значущим, якщо покращення (improvement або лiфт (lift)): $Improv(R_{k}) > 1$.\n",
        "\n",
        "3. Побудувати частi набори та множину АП, використовуючи алгоритм FP-росту. Дослiдити множини АП залежно вiд параметрiв побудови АП, якi було наведено вище для Apriori. Пiдiбрати значення параметрiв алгоритму FP-росту, якi призводять до значущих АП.\n",
        "\n",
        "4. Зробити висновки щодо впливу параметрiв алгоритмiв Apriori та FP-росту на знайденi множини асоціативних правил (АП).\n",
        "\n",
        "5. Знайти значення прогнозу на основi побудованої множини правил.\n",
        "\n",
        "6. Порiвняти результати, отриманi алгоритмами Apriori та FP-росту.\n",
        "\n",
        "Дозволяється використати наступнi матерiали:\n",
        "* http://rasbt.github.io/mlxtend/api_subpackages/mlxtend.frequent_patterns/\n",
        "* https://www.kaggle.com/povilass/analysis-of-transactions-from-a-bakery-and-apriori"
      ]
    },
    {
      "cell_type": "markdown",
      "metadata": {
        "id": "Vu55XS41jU5A",
        "colab_type": "text"
      },
      "source": [
        "# 1. Взяти файл з даними у вiдповiдностi з варiантом."
      ]
    },
    {
      "cell_type": "code",
      "metadata": {
        "id": "gZjSEvu0NouT",
        "colab_type": "code",
        "outputId": "23a72419-cbf9-42f4-aa45-08b9b10362a8",
        "colab": {
          "base_uri": "https://localhost:8080/"
        }
      },
      "source": [
        "!pip show mlxtend"
      ],
      "execution_count": 0,
      "outputs": [
        {
          "output_type": "stream",
          "text": [
            "Name: mlxtend\n",
            "Version: 0.14.0\n",
            "Summary: Machine Learning Library Extensions\n",
            "Home-page: https://github.com/rasbt/mlxtend\n",
            "Author: Sebastian Raschka\n",
            "Author-email: mail@sebastianraschka.com\n",
            "License: BSD 3-Clause\n",
            "Location: /usr/local/lib/python3.6/dist-packages\n",
            "Requires: scipy, scikit-learn, matplotlib, pandas, setuptools, numpy\n",
            "Required-by: \n"
          ],
          "name": "stdout"
        }
      ]
    },
    {
      "cell_type": "markdown",
      "metadata": {
        "id": "YbYYKayLM--o",
        "colab_type": "text"
      },
      "source": [
        "Для повторення результатів роботи потрібно мати версію пакету `mlxtend` новішу за 0.14.0. При роботі у Google Colabrotory для цього достатньо буде виконати наступну команду: "
      ]
    },
    {
      "cell_type": "code",
      "metadata": {
        "id": "o8XxPMTMOX6y",
        "colab_type": "code",
        "colab": {}
      },
      "source": [
        "!pip install --upgrade mlxtend"
      ],
      "execution_count": 0,
      "outputs": []
    },
    {
      "cell_type": "code",
      "metadata": {
        "id": "tzjLHg2aOj0V",
        "colab_type": "code",
        "outputId": "2fe69076-4872-44bd-d280-696b1ed8ff59",
        "colab": {
          "base_uri": "https://localhost:8080/",
          "height": 193
        }
      },
      "source": [
        "!pip show mlxtend"
      ],
      "execution_count": 0,
      "outputs": [
        {
          "output_type": "stream",
          "text": [
            "Name: mlxtend\n",
            "Version: 0.17.2\n",
            "Summary: Machine Learning Library Extensions\n",
            "Home-page: https://github.com/rasbt/mlxtend\n",
            "Author: Sebastian Raschka\n",
            "Author-email: mail@sebastianraschka.com\n",
            "License: BSD 3-Clause\n",
            "Location: /usr/local/lib/python3.6/dist-packages\n",
            "Requires: scipy, numpy, pandas, scikit-learn, matplotlib, joblib, setuptools\n",
            "Required-by: \n"
          ],
          "name": "stdout"
        }
      ]
    },
    {
      "cell_type": "code",
      "metadata": {
        "id": "FZz4xQLFWMKS",
        "colab_type": "code",
        "colab": {}
      },
      "source": [
        "import matplotlib.pyplot as plt\n",
        "from mlxtend.frequent_patterns import apriori, association_rules, fpgrowth\n",
        "from mlxtend.preprocessing import TransactionEncoder\n",
        "import numpy as np\n",
        "import pandas as pd\n",
        "import time\n",
        "import warnings\n",
        "\n",
        "np.set_printoptions(linewidth=100, suppress=True, precision=3)\n",
        "pd.set_option('display.expand_frame_repr', True)\n",
        "pd.set_option('display.max_colwidth', 1000)\n",
        "pd.set_option('display.max_rows', 100)"
      ],
      "execution_count": 0,
      "outputs": []
    },
    {
      "cell_type": "markdown",
      "metadata": {
        "id": "4S_d4-23PQLx",
        "colab_type": "text"
      },
      "source": [
        "Імпортуємо вхідні дані. Традиційно в задачі пошуку АП маємо: множину $I = (i_{1}, ...,i_{m})$ предметів, для даного набору даних `Var_6_1000_Transactions` -- ідентифікаторів продуктів `product_id`, множину $D$ транзакцій в якій кожена транзакція $T$ -- множина елементів, таких що $T \\subset I$. Кожній транзакції ставиться у відповідність унікальний ідентифікатор $TID$, в даному випадку -- `order_id`. Оскільки функції `apriori` `fpgrowth` при використанні параметра `use_colnames` вимагають колонки строкового типу, то при імпортуванні даних за допомогою функції `pd.read_csv` необхідно задати параметр `dtype`[[1]](http://rakesh.agrawal-family.com/papers/vldb94apriori.pdf)."
      ]
    },
    {
      "cell_type": "code",
      "metadata": {
        "id": "8rfqbCE0jc3o",
        "colab_type": "code",
        "colab": {}
      },
      "source": [
        "transactions = pd.read_csv('Var_6_1000_Transactions.csv',\n",
        "                           dtype={'product_id': str, 'order_id': str})"
      ],
      "execution_count": 0,
      "outputs": []
    },
    {
      "cell_type": "markdown",
      "metadata": {
        "id": "GWAjWiBfXu08",
        "colab_type": "text"
      },
      "source": [
        "Подубуємо кругову діаграму для двадцяти найчастіших продуктів із вибірки."
      ]
    },
    {
      "cell_type": "code",
      "metadata": {
        "id": "RZAXRZRXPs9V",
        "colab_type": "code",
        "outputId": "5fc2f0ca-4401-47b7-eb9d-84939f6d3fe1",
        "colab": {
          "base_uri": "https://localhost:8080/",
          "height": 605
        }
      },
      "source": [
        "transactions.product_id.value_counts().head(20)\\\n",
        "            .plot.pie(figsize=(10, 15), title='20 most frequent products')\n",
        "plt.show()"
      ],
      "execution_count": 0,
      "outputs": [
        {
          "output_type": "display_data",
          "data": {
            "image/png": "[encoded data removed]",
            "text/plain": [
              "<Figure size 720x1080 with 1 Axes>"
            ]
          },
          "metadata": {
            "tags": []
          }
        }
      ]
    },
    {
      "cell_type": "markdown",
      "metadata": {
        "id": "v4cfFuTncMJ3",
        "colab_type": "text"
      },
      "source": [
        "Побудуємо гістограму для того, щоб краще зрозуміти, які товари покупці часто придбають."
      ]
    },
    {
      "cell_type": "code",
      "metadata": {
        "id": "_qNO5VEYArai",
        "colab_type": "code",
        "outputId": "51e9e088-057c-430a-fdb8-cfab4841bfc7",
        "colab": {
          "base_uri": "https://localhost:8080/",
          "height": 372
        }
      },
      "source": [
        "transactions.product_id.value_counts().head(20).plot.bar(figsize=(10, 5))\n",
        "plt.xlabel('Product id')\n",
        "plt.ylabel('Number of items bought')\n",
        "plt.title('20 most frequent products')\n",
        "plt.show()"
      ],
      "execution_count": 0,
      "outputs": [
        {
          "output_type": "display_data",
          "data": {
            "image/png": "[encoded data removed]",
            "text/plain": [
              "<Figure size 720x360 with 1 Axes>"
            ]
          },
          "metadata": {
            "tags": [],
            "needs_background": "light"
          }
        }
      ]
    },
    {
      "cell_type": "markdown",
      "metadata": {
        "id": "wILLTTJAYNTh",
        "colab_type": "text"
      },
      "source": [
        "Кількість унікальних продуктів вибірки:"
      ]
    },
    {
      "cell_type": "code",
      "metadata": {
        "id": "xA0riYrVNhln",
        "colab_type": "code",
        "outputId": "f418c4e5-8b3d-473d-a90e-42e9ae4d17f4",
        "colab": {
          "base_uri": "https://localhost:8080/",
          "height": 34
        }
      },
      "source": [
        "len(transactions.product_id.unique())"
      ],
      "execution_count": 0,
      "outputs": [
        {
          "output_type": "execute_result",
          "data": {
            "text/plain": [
              "4438"
            ]
          },
          "metadata": {
            "tags": []
          },
          "execution_count": 11
        }
      ]
    },
    {
      "cell_type": "markdown",
      "metadata": {
        "id": "kK_FSmqkYSHe",
        "colab_type": "text"
      },
      "source": [
        "Кількість унікальних замовлень (транзакцій):"
      ]
    },
    {
      "cell_type": "code",
      "metadata": {
        "id": "qyPh3cuwWoEg",
        "colab_type": "code",
        "outputId": "90b561c6-2f82-4bb7-a630-138ba0f71da5",
        "colab": {
          "base_uri": "https://localhost:8080/",
          "height": 34
        }
      },
      "source": [
        "len(transactions.order_id.unique())"
      ],
      "execution_count": 0,
      "outputs": [
        {
          "output_type": "execute_result",
          "data": {
            "text/plain": [
              "956"
            ]
          },
          "metadata": {
            "tags": []
          },
          "execution_count": 12
        }
      ]
    },
    {
      "cell_type": "code",
      "metadata": {
        "id": "l3Whr5wVXQim",
        "colab_type": "code",
        "outputId": "d6fbedbf-7ba4-4c89-a1b7-e275c630da9d",
        "colab": {
          "base_uri": "https://localhost:8080/",
          "height": 203
        }
      },
      "source": [
        "transactions.head()"
      ],
      "execution_count": 0,
      "outputs": [
        {
          "output_type": "execute_result",
          "data": {
            "text/html": [
              "<div>\n",
              "<style scoped>\n",
              "    .dataframe tbody tr th:only-of-type {\n",
              "        vertical-align: middle;\n",
              "    }\n",
              "\n",
              "    .dataframe tbody tr th {\n",
              "        vertical-align: top;\n",
              "    }\n",
              "\n",
              "    .dataframe thead th {\n",
              "        text-align: right;\n",
              "    }\n",
              "</style>\n",
              "<table border=\"1\" class=\"dataframe\">\n",
              "  <thead>\n",
              "    <tr style=\"text-align: right;\">\n",
              "      <th></th>\n",
              "      <th>order_id</th>\n",
              "      <th>product_id</th>\n",
              "    </tr>\n",
              "  </thead>\n",
              "  <tbody>\n",
              "    <tr>\n",
              "      <th>0</th>\n",
              "      <td>2</td>\n",
              "      <td>33120</td>\n",
              "    </tr>\n",
              "    <tr>\n",
              "      <th>1</th>\n",
              "      <td>2</td>\n",
              "      <td>28985</td>\n",
              "    </tr>\n",
              "    <tr>\n",
              "      <th>2</th>\n",
              "      <td>2</td>\n",
              "      <td>9327</td>\n",
              "    </tr>\n",
              "    <tr>\n",
              "      <th>3</th>\n",
              "      <td>2</td>\n",
              "      <td>45918</td>\n",
              "    </tr>\n",
              "    <tr>\n",
              "      <th>4</th>\n",
              "      <td>2</td>\n",
              "      <td>30035</td>\n",
              "    </tr>\n",
              "  </tbody>\n",
              "</table>\n",
              "</div>"
            ],
            "text/plain": [
              "  order_id product_id\n",
              "0        2      33120\n",
              "1        2      28985\n",
              "2        2       9327\n",
              "3        2      45918\n",
              "4        2      30035"
            ]
          },
          "metadata": {
            "tags": []
          },
          "execution_count": 9
        }
      ]
    },
    {
      "cell_type": "markdown",
      "metadata": {
        "id": "kwo_PXM_XC62",
        "colab_type": "text"
      },
      "source": [
        "Для того, щоб отримати множину найчастіших наборів, вхідні дані спочатку необхідно привести до закодованого вигляду."
      ]
    },
    {
      "cell_type": "code",
      "metadata": {
        "id": "nzfyxU4S-hbB",
        "colab_type": "code",
        "colab": {}
      },
      "source": [
        "def encode(df, product_id, tid):\n",
        "    '''Method to convert transactions database data into sparse encoded form.\n",
        "\n",
        "    Parameters\n",
        "    -------------\n",
        "    df: pandas.DataFrame\n",
        "        Table containg transaction ids (user ids) and product ids bought.\n",
        "    product_id: str\n",
        "        The name of the column containing product ids.\n",
        "    tid: str\n",
        "        The name of the column containing transaction (user) ids.\n",
        "    \n",
        "    Returns\n",
        "    -------------\n",
        "    transaction_product_df: pandas.DataFrame\n",
        "        Table with columns as product ids and rows as transaction ids. A cell at\n",
        "        the intersection of row i and column j contains True if during \n",
        "        transaction i product j was bought.\n",
        "    '''    \n",
        "    itemsets = df.groupby(by=tid)[product_id].agg(lambda x: list(x)).to_list()\n",
        "    te = TransactionEncoder()\n",
        "    sparse_itemsets = te.fit_transform(itemsets, sparse=True)\n",
        "    transaction_product_df = pd.DataFrame.sparse.from_spmatrix(sparse_itemsets,\n",
        "                                columns=te.columns_, index=df[tid].unique())\n",
        "    return transaction_product_df\n",
        "    \n",
        "order_product_df = encode(transactions, 'product_id', 'order_id')"
      ],
      "execution_count": 0,
      "outputs": []
    },
    {
      "cell_type": "markdown",
      "metadata": {
        "id": "enmJZXDgoUQx",
        "colab_type": "text"
      },
      "source": [
        "# 2. Aлгоритм Apriori"
      ]
    },
    {
      "cell_type": "markdown",
      "metadata": {
        "id": "nNIgK5OWIxmI",
        "colab_type": "text"
      },
      "source": [
        "## Опис алгоритму\n",
        "\n",
        "### Позначення:\n",
        "* $L_{k}$: Множина найблільших (частих) k-елементних наборів (з мінімальною підтримкою). Кожен елемент множини має два атрибути: набір та значення підтримки.\n",
        "* $C_{k}$: Множина кандидатів в k-елементні часті набори, отримана\n",
        "шляхом зв’язування множини $L_{k-1}$ з собою. Кожен елемент множини має два атрибути: набір та значення підтримки.\n",
        "\n",
        "### Псевдокод\n",
        "$ 1)  L_{1}=\\{\\text { large } 1 \\text {-itemsets }\\}$\n",
        "\n",
        "$ 2) \\text { for }  \\left(k=2 ; L_{k-1} \\neq \\emptyset ; k++\\right) \\text { do begin } $\n",
        "\n",
        "$ 3) \\quad C_{k} =  \\text {apriori-gen} \\left(L_{k-1}\\right) ; \\quad \\text {// New candidates}$\n",
        "\n",
        "$4)\\quad \\text { for all transactions } t \\in \\mathcal{D} \\text { do begin }$\n",
        "\n",
        "$5)\\quad \\quad C_{t}=\\operatorname{subset}\\left(C_{k}, t\\right) ;  \\text { // Candidates contained in } t$\n",
        "\n",
        "$6)\\quad \\quad \\text { forall candidates } c \\in C_{t} \\text { do } $\n",
        "\n",
        "$7) \\quad \\quad \\quad c . count ++ $\n",
        "\n",
        "$8)\\quad \\quad end$\n",
        "\n",
        "$9) \\quad \\quad L_{k}=\\left\\{c \\in C_{k} | c . count \\geq \\operatorname{minsup}\\right\\}$\n",
        "\n",
        "$10) end$\n",
        "\n",
        "$11) Answer =\\bigcup_{k} L_{k} $\n",
        "\n",
        "The first pass of the algorithm simply counts item occurrences to determine the large 1-itemsets. A subsequent pass, say pass  $k$ consists of two phases. First, the large itemsets $L_{k-1}$ found in the $(k-1)th$ pass are used to generate the candidate itemsets $ C_{k}$ using the apriorigen function described in Section 2.1.1. Next the database is scanned and the support of candidates in $C_{k}$ is counted. For fast counting, we need to efficiently determine the candidates in $C_{k}$ that are contained in a given transaction $t$. Section 2.1.2 describes the subset function used for this purpose.\n",
        "\n",
        "### 2.1.1 Генерація кандидатів\n",
        "\n",
        "Функція apriori-gen приймає як аргумент $L_{k-1}$, множина частих (k-1)-елементних наборів. Вона повертає надмножину множини всіх частих k-елементних наборів. Функція працює наступним чином. По-перше, на кроці *join*, поєдується $L_{k-1}$ з $L_{k-1}$: \n",
        "\n",
        "$ \\text { insert into } C_{k}$\n",
        "\n",
        "$ \\text { select } p.item_{1}, p.item_{2}, \\ldots, p.item_{k-1}, q.item_{k-1} $ \n",
        "\n",
        "$ \\text { from } L_{k-1} p, L_{k-1} q $\n",
        "\n",
        "$ \\text { where } p.item_{1}=q.item_{1}, \\ldots, p.item_{k-2}=q.item_{k-2}, \n",
        "p.item_{k-1}<q.item_{k-1} $\n",
        "\n",
        "Далі, на кроці \"підрізання\", видаляються всі набори $ c \\in C_{k} $ так що деяка (k-1)-підмножина c не належить $ L_{k-1} $:\n",
        "\n",
        "$ \\text { for all itemsets } c \\in C_{k} do $\n",
        "\n",
        "$ \\quad \\text { for all (k-1)-subsets s of c do } $\n",
        "\n",
        "$ \\quad \\quad if \\left(s \\notin L_{k-1}\\right) then $\n",
        "\n",
        "$ \\quad \\quad \\quad \\text { delete c from } C_{k} $"
      ]
    },
    {
      "cell_type": "markdown",
      "metadata": {
        "id": "ev9Hu5qNZ1mC",
        "colab_type": "text"
      },
      "source": [
        "Побудуємо часті набори за допомогою алгоритму `Apriori`, проведемо дослiдження пареметру мiнiмальної пiдтримки `min_support`:"
      ]
    },
    {
      "cell_type": "code",
      "metadata": {
        "id": "qUYgVShAz2Fg",
        "colab_type": "code",
        "outputId": "fdafed20-1dcf-4703-f850-dcc391b27745",
        "colab": {
          "base_uri": "https://localhost:8080/",
          "height": 453
        }
      },
      "source": [
        "%time\n",
        "frequent_itemsets = apriori(order_product_df, use_colnames=True,\n",
        "                            min_support=.01)\n",
        "frequent_itemsets"
      ],
      "execution_count": 44,
      "outputs": [
        {
          "output_type": "stream",
          "text": [
            "CPU times: user 5 µs, sys: 0 ns, total: 5 µs\n",
            "Wall time: 8.58 µs\n"
          ],
          "name": "stdout"
        },
        {
          "output_type": "execute_result",
          "data": {
            "text/html": [
              "<div>\n",
              "<style scoped>\n",
              "    .dataframe tbody tr th:only-of-type {\n",
              "        vertical-align: middle;\n",
              "    }\n",
              "\n",
              "    .dataframe tbody tr th {\n",
              "        vertical-align: top;\n",
              "    }\n",
              "\n",
              "    .dataframe thead th {\n",
              "        text-align: right;\n",
              "    }\n",
              "</style>\n",
              "<table border=\"1\" class=\"dataframe\">\n",
              "  <thead>\n",
              "    <tr style=\"text-align: right;\">\n",
              "      <th></th>\n",
              "      <th>support</th>\n",
              "      <th>itemsets</th>\n",
              "    </tr>\n",
              "  </thead>\n",
              "  <tbody>\n",
              "    <tr>\n",
              "      <th>0</th>\n",
              "      <td>0.013598</td>\n",
              "      <td>(10749)</td>\n",
              "    </tr>\n",
              "    <tr>\n",
              "      <th>1</th>\n",
              "      <td>0.013598</td>\n",
              "      <td>(11520)</td>\n",
              "    </tr>\n",
              "    <tr>\n",
              "      <th>2</th>\n",
              "      <td>0.010460</td>\n",
              "      <td>(1158)</td>\n",
              "    </tr>\n",
              "    <tr>\n",
              "      <th>3</th>\n",
              "      <td>0.014644</td>\n",
              "      <td>(12341)</td>\n",
              "    </tr>\n",
              "    <tr>\n",
              "      <th>4</th>\n",
              "      <td>0.122385</td>\n",
              "      <td>(13176)</td>\n",
              "    </tr>\n",
              "    <tr>\n",
              "      <th>...</th>\n",
              "      <td>...</td>\n",
              "      <td>...</td>\n",
              "    </tr>\n",
              "    <tr>\n",
              "      <th>130</th>\n",
              "      <td>0.011506</td>\n",
              "      <td>(45066, 24852)</td>\n",
              "    </tr>\n",
              "    <tr>\n",
              "      <th>131</th>\n",
              "      <td>0.010460</td>\n",
              "      <td>(24852, 47626)</td>\n",
              "    </tr>\n",
              "    <tr>\n",
              "      <th>132</th>\n",
              "      <td>0.016736</td>\n",
              "      <td>(24852, 47766)</td>\n",
              "    </tr>\n",
              "    <tr>\n",
              "      <th>133</th>\n",
              "      <td>0.010460</td>\n",
              "      <td>(49683, 24852)</td>\n",
              "    </tr>\n",
              "    <tr>\n",
              "      <th>134</th>\n",
              "      <td>0.010460</td>\n",
              "      <td>(24852, 9076)</td>\n",
              "    </tr>\n",
              "  </tbody>\n",
              "</table>\n",
              "<p>135 rows × 2 columns</p>\n",
              "</div>"
            ],
            "text/plain": [
              "      support        itemsets\n",
              "0    0.013598         (10749)\n",
              "1    0.013598         (11520)\n",
              "2    0.010460          (1158)\n",
              "3    0.014644         (12341)\n",
              "4    0.122385         (13176)\n",
              "..        ...             ...\n",
              "130  0.011506  (45066, 24852)\n",
              "131  0.010460  (24852, 47626)\n",
              "132  0.016736  (24852, 47766)\n",
              "133  0.010460  (49683, 24852)\n",
              "134  0.010460   (24852, 9076)\n",
              "\n",
              "[135 rows x 2 columns]"
            ]
          },
          "metadata": {
            "tags": []
          },
          "execution_count": 44
        }
      ]
    },
    {
      "cell_type": "code",
      "metadata": {
        "colab_type": "code",
        "outputId": "a8d975c8-284e-429e-b1a9-ea83d63639b9",
        "id": "RbCf1wmvZCFc",
        "colab": {
          "base_uri": "https://localhost:8080/",
          "height": 300
        }
      },
      "source": [
        "%time\n",
        "apriori(order_product_df, use_colnames=True, min_support=.05)"
      ],
      "execution_count": 0,
      "outputs": [
        {
          "output_type": "stream",
          "text": [
            "CPU times: user 4 µs, sys: 0 ns, total: 4 µs\n",
            "Wall time: 6.2 µs\n"
          ],
          "name": "stdout"
        },
        {
          "output_type": "execute_result",
          "data": {
            "text/html": [
              "<div>\n",
              "<style scoped>\n",
              "    .dataframe tbody tr th:only-of-type {\n",
              "        vertical-align: middle;\n",
              "    }\n",
              "\n",
              "    .dataframe tbody tr th {\n",
              "        vertical-align: top;\n",
              "    }\n",
              "\n",
              "    .dataframe thead th {\n",
              "        text-align: right;\n",
              "    }\n",
              "</style>\n",
              "<table border=\"1\" class=\"dataframe\">\n",
              "  <thead>\n",
              "    <tr style=\"text-align: right;\">\n",
              "      <th></th>\n",
              "      <th>support</th>\n",
              "      <th>itemsets</th>\n",
              "    </tr>\n",
              "  </thead>\n",
              "  <tbody>\n",
              "    <tr>\n",
              "      <th>0</th>\n",
              "      <td>0.122385</td>\n",
              "      <td>(13176)</td>\n",
              "    </tr>\n",
              "    <tr>\n",
              "      <th>1</th>\n",
              "      <td>0.054393</td>\n",
              "      <td>(16797)</td>\n",
              "    </tr>\n",
              "    <tr>\n",
              "      <th>2</th>\n",
              "      <td>0.074268</td>\n",
              "      <td>(21137)</td>\n",
              "    </tr>\n",
              "    <tr>\n",
              "      <th>3</th>\n",
              "      <td>0.069038</td>\n",
              "      <td>(21903)</td>\n",
              "    </tr>\n",
              "    <tr>\n",
              "      <th>4</th>\n",
              "      <td>0.158996</td>\n",
              "      <td>(24852)</td>\n",
              "    </tr>\n",
              "    <tr>\n",
              "      <th>5</th>\n",
              "      <td>0.066946</td>\n",
              "      <td>(47209)</td>\n",
              "    </tr>\n",
              "    <tr>\n",
              "      <th>6</th>\n",
              "      <td>0.054393</td>\n",
              "      <td>(47766)</td>\n",
              "    </tr>\n",
              "  </tbody>\n",
              "</table>\n",
              "</div>"
            ],
            "text/plain": [
              "    support itemsets\n",
              "0  0.122385  (13176)\n",
              "1  0.054393  (16797)\n",
              "2  0.074268  (21137)\n",
              "3  0.069038  (21903)\n",
              "4  0.158996  (24852)\n",
              "5  0.066946  (47209)\n",
              "6  0.054393  (47766)"
            ]
          },
          "metadata": {
            "tags": []
          },
          "execution_count": 55
        }
      ]
    },
    {
      "cell_type": "code",
      "metadata": {
        "colab_type": "code",
        "outputId": "e2817635-f413-4f8a-c861-e2cc59f6fa79",
        "id": "Bo9QP1SGZCV1",
        "colab": {
          "base_uri": "https://localhost:8080/",
          "height": 516
        }
      },
      "source": [
        "%time\n",
        "apriori(order_product_df, use_colnames=True, min_support=.03)"
      ],
      "execution_count": 0,
      "outputs": [
        {
          "output_type": "stream",
          "text": [
            "CPU times: user 4 µs, sys: 0 ns, total: 4 µs\n",
            "Wall time: 6.91 µs\n"
          ],
          "name": "stdout"
        },
        {
          "output_type": "execute_result",
          "data": {
            "text/html": [
              "<div>\n",
              "<style scoped>\n",
              "    .dataframe tbody tr th:only-of-type {\n",
              "        vertical-align: middle;\n",
              "    }\n",
              "\n",
              "    .dataframe tbody tr th {\n",
              "        vertical-align: top;\n",
              "    }\n",
              "\n",
              "    .dataframe thead th {\n",
              "        text-align: right;\n",
              "    }\n",
              "</style>\n",
              "<table border=\"1\" class=\"dataframe\">\n",
              "  <thead>\n",
              "    <tr style=\"text-align: right;\">\n",
              "      <th></th>\n",
              "      <th>support</th>\n",
              "      <th>itemsets</th>\n",
              "    </tr>\n",
              "  </thead>\n",
              "  <tbody>\n",
              "    <tr>\n",
              "      <th>0</th>\n",
              "      <td>0.122385</td>\n",
              "      <td>(13176)</td>\n",
              "    </tr>\n",
              "    <tr>\n",
              "      <th>1</th>\n",
              "      <td>0.054393</td>\n",
              "      <td>(16797)</td>\n",
              "    </tr>\n",
              "    <tr>\n",
              "      <th>2</th>\n",
              "      <td>0.074268</td>\n",
              "      <td>(21137)</td>\n",
              "    </tr>\n",
              "    <tr>\n",
              "      <th>3</th>\n",
              "      <td>0.069038</td>\n",
              "      <td>(21903)</td>\n",
              "    </tr>\n",
              "    <tr>\n",
              "      <th>4</th>\n",
              "      <td>0.040795</td>\n",
              "      <td>(22935)</td>\n",
              "    </tr>\n",
              "    <tr>\n",
              "      <th>5</th>\n",
              "      <td>0.158996</td>\n",
              "      <td>(24852)</td>\n",
              "    </tr>\n",
              "    <tr>\n",
              "      <th>6</th>\n",
              "      <td>0.034519</td>\n",
              "      <td>(24964)</td>\n",
              "    </tr>\n",
              "    <tr>\n",
              "      <th>7</th>\n",
              "      <td>0.034519</td>\n",
              "      <td>(26209)</td>\n",
              "    </tr>\n",
              "    <tr>\n",
              "      <th>8</th>\n",
              "      <td>0.030335</td>\n",
              "      <td>(27845)</td>\n",
              "    </tr>\n",
              "    <tr>\n",
              "      <th>9</th>\n",
              "      <td>0.039749</td>\n",
              "      <td>(27966)</td>\n",
              "    </tr>\n",
              "    <tr>\n",
              "      <th>10</th>\n",
              "      <td>0.033473</td>\n",
              "      <td>(39275)</td>\n",
              "    </tr>\n",
              "    <tr>\n",
              "      <th>11</th>\n",
              "      <td>0.066946</td>\n",
              "      <td>(47209)</td>\n",
              "    </tr>\n",
              "    <tr>\n",
              "      <th>12</th>\n",
              "      <td>0.046025</td>\n",
              "      <td>(47626)</td>\n",
              "    </tr>\n",
              "    <tr>\n",
              "      <th>13</th>\n",
              "      <td>0.054393</td>\n",
              "      <td>(47766)</td>\n",
              "    </tr>\n",
              "  </tbody>\n",
              "</table>\n",
              "</div>"
            ],
            "text/plain": [
              "     support itemsets\n",
              "0   0.122385  (13176)\n",
              "1   0.054393  (16797)\n",
              "2   0.074268  (21137)\n",
              "3   0.069038  (21903)\n",
              "4   0.040795  (22935)\n",
              "5   0.158996  (24852)\n",
              "6   0.034519  (24964)\n",
              "7   0.034519  (26209)\n",
              "8   0.030335  (27845)\n",
              "9   0.039749  (27966)\n",
              "10  0.033473  (39275)\n",
              "11  0.066946  (47209)\n",
              "12  0.046025  (47626)\n",
              "13  0.054393  (47766)"
            ]
          },
          "metadata": {
            "tags": []
          },
          "execution_count": 56
        }
      ]
    },
    {
      "cell_type": "markdown",
      "metadata": {
        "id": "bzNx2ZRCaZ03",
        "colab_type": "text"
      },
      "source": [
        "Побудуємо АП за допомогою алгоритму `Apriori`, проведемо дослідження мiнiмальної достовiрностi `min_threshold` та максимальної потужностi частих наборiв `max_len`:"
      ]
    },
    {
      "cell_type": "code",
      "metadata": {
        "id": "dJZ-CWq79bN7",
        "colab_type": "code",
        "outputId": "78868f0c-c720-468d-9766-e98468fe728a",
        "colab": {
          "base_uri": "https://localhost:8080/",
          "height": 794
        }
      },
      "source": [
        "%%time\n",
        "association_rules(frequent_itemsets, min_threshold=.1)"
      ],
      "execution_count": 0,
      "outputs": [
        {
          "output_type": "stream",
          "text": [
            "CPU times: user 8.08 ms, sys: 0 ns, total: 8.08 ms\n",
            "Wall time: 9.96 ms\n"
          ],
          "name": "stdout"
        },
        {
          "output_type": "execute_result",
          "data": {
            "text/html": [
              "<div>\n",
              "<style scoped>\n",
              "    .dataframe tbody tr th:only-of-type {\n",
              "        vertical-align: middle;\n",
              "    }\n",
              "\n",
              "    .dataframe tbody tr th {\n",
              "        vertical-align: top;\n",
              "    }\n",
              "\n",
              "    .dataframe thead th {\n",
              "        text-align: right;\n",
              "    }\n",
              "</style>\n",
              "<table border=\"1\" class=\"dataframe\">\n",
              "  <thead>\n",
              "    <tr style=\"text-align: right;\">\n",
              "      <th></th>\n",
              "      <th>antecedents</th>\n",
              "      <th>consequents</th>\n",
              "      <th>antecedent support</th>\n",
              "      <th>consequent support</th>\n",
              "      <th>support</th>\n",
              "      <th>confidence</th>\n",
              "      <th>lift</th>\n",
              "      <th>leverage</th>\n",
              "      <th>conviction</th>\n",
              "    </tr>\n",
              "  </thead>\n",
              "  <tbody>\n",
              "    <tr>\n",
              "      <th>0</th>\n",
              "      <td>(21137)</td>\n",
              "      <td>(13176)</td>\n",
              "      <td>0.074268</td>\n",
              "      <td>0.122385</td>\n",
              "      <td>0.019874</td>\n",
              "      <td>0.267606</td>\n",
              "      <td>2.186590</td>\n",
              "      <td>0.010785</td>\n",
              "      <td>1.198282</td>\n",
              "    </tr>\n",
              "    <tr>\n",
              "      <th>1</th>\n",
              "      <td>(13176)</td>\n",
              "      <td>(21137)</td>\n",
              "      <td>0.122385</td>\n",
              "      <td>0.074268</td>\n",
              "      <td>0.019874</td>\n",
              "      <td>0.162393</td>\n",
              "      <td>2.186590</td>\n",
              "      <td>0.010785</td>\n",
              "      <td>1.105211</td>\n",
              "    </tr>\n",
              "    <tr>\n",
              "      <th>2</th>\n",
              "      <td>(22935)</td>\n",
              "      <td>(13176)</td>\n",
              "      <td>0.040795</td>\n",
              "      <td>0.122385</td>\n",
              "      <td>0.010460</td>\n",
              "      <td>0.256410</td>\n",
              "      <td>2.095113</td>\n",
              "      <td>0.005468</td>\n",
              "      <td>1.180241</td>\n",
              "    </tr>\n",
              "    <tr>\n",
              "      <th>3</th>\n",
              "      <td>(27966)</td>\n",
              "      <td>(13176)</td>\n",
              "      <td>0.039749</td>\n",
              "      <td>0.122385</td>\n",
              "      <td>0.015690</td>\n",
              "      <td>0.394737</td>\n",
              "      <td>3.225371</td>\n",
              "      <td>0.010826</td>\n",
              "      <td>1.449973</td>\n",
              "    </tr>\n",
              "    <tr>\n",
              "      <th>4</th>\n",
              "      <td>(13176)</td>\n",
              "      <td>(27966)</td>\n",
              "      <td>0.122385</td>\n",
              "      <td>0.039749</td>\n",
              "      <td>0.015690</td>\n",
              "      <td>0.128205</td>\n",
              "      <td>3.225371</td>\n",
              "      <td>0.010826</td>\n",
              "      <td>1.101464</td>\n",
              "    </tr>\n",
              "    <tr>\n",
              "      <th>5</th>\n",
              "      <td>(47209)</td>\n",
              "      <td>(13176)</td>\n",
              "      <td>0.066946</td>\n",
              "      <td>0.122385</td>\n",
              "      <td>0.023013</td>\n",
              "      <td>0.343750</td>\n",
              "      <td>2.808761</td>\n",
              "      <td>0.014819</td>\n",
              "      <td>1.337318</td>\n",
              "    </tr>\n",
              "    <tr>\n",
              "      <th>6</th>\n",
              "      <td>(13176)</td>\n",
              "      <td>(47209)</td>\n",
              "      <td>0.122385</td>\n",
              "      <td>0.066946</td>\n",
              "      <td>0.023013</td>\n",
              "      <td>0.188034</td>\n",
              "      <td>2.808761</td>\n",
              "      <td>0.014819</td>\n",
              "      <td>1.149130</td>\n",
              "    </tr>\n",
              "    <tr>\n",
              "      <th>7</th>\n",
              "      <td>(16797)</td>\n",
              "      <td>(24852)</td>\n",
              "      <td>0.054393</td>\n",
              "      <td>0.158996</td>\n",
              "      <td>0.012552</td>\n",
              "      <td>0.230769</td>\n",
              "      <td>1.451417</td>\n",
              "      <td>0.003904</td>\n",
              "      <td>1.093305</td>\n",
              "    </tr>\n",
              "    <tr>\n",
              "      <th>8</th>\n",
              "      <td>(16797)</td>\n",
              "      <td>(43352)</td>\n",
              "      <td>0.054393</td>\n",
              "      <td>0.027197</td>\n",
              "      <td>0.010460</td>\n",
              "      <td>0.192308</td>\n",
              "      <td>7.071006</td>\n",
              "      <td>0.008981</td>\n",
              "      <td>1.204423</td>\n",
              "    </tr>\n",
              "    <tr>\n",
              "      <th>9</th>\n",
              "      <td>(43352)</td>\n",
              "      <td>(16797)</td>\n",
              "      <td>0.027197</td>\n",
              "      <td>0.054393</td>\n",
              "      <td>0.010460</td>\n",
              "      <td>0.384615</td>\n",
              "      <td>7.071006</td>\n",
              "      <td>0.008981</td>\n",
              "      <td>1.536611</td>\n",
              "    </tr>\n",
              "    <tr>\n",
              "      <th>10</th>\n",
              "      <td>(21137)</td>\n",
              "      <td>(24852)</td>\n",
              "      <td>0.074268</td>\n",
              "      <td>0.158996</td>\n",
              "      <td>0.011506</td>\n",
              "      <td>0.154930</td>\n",
              "      <td>0.974426</td>\n",
              "      <td>-0.000302</td>\n",
              "      <td>0.995188</td>\n",
              "    </tr>\n",
              "    <tr>\n",
              "      <th>11</th>\n",
              "      <td>(47209)</td>\n",
              "      <td>(21137)</td>\n",
              "      <td>0.066946</td>\n",
              "      <td>0.074268</td>\n",
              "      <td>0.015690</td>\n",
              "      <td>0.234375</td>\n",
              "      <td>3.155810</td>\n",
              "      <td>0.010718</td>\n",
              "      <td>1.209120</td>\n",
              "    </tr>\n",
              "    <tr>\n",
              "      <th>12</th>\n",
              "      <td>(21137)</td>\n",
              "      <td>(47209)</td>\n",
              "      <td>0.074268</td>\n",
              "      <td>0.066946</td>\n",
              "      <td>0.015690</td>\n",
              "      <td>0.211268</td>\n",
              "      <td>3.155810</td>\n",
              "      <td>0.010718</td>\n",
              "      <td>1.182980</td>\n",
              "    </tr>\n",
              "    <tr>\n",
              "      <th>13</th>\n",
              "      <td>(21903)</td>\n",
              "      <td>(24852)</td>\n",
              "      <td>0.069038</td>\n",
              "      <td>0.158996</td>\n",
              "      <td>0.025105</td>\n",
              "      <td>0.363636</td>\n",
              "      <td>2.287081</td>\n",
              "      <td>0.014128</td>\n",
              "      <td>1.321578</td>\n",
              "    </tr>\n",
              "    <tr>\n",
              "      <th>14</th>\n",
              "      <td>(24852)</td>\n",
              "      <td>(21903)</td>\n",
              "      <td>0.158996</td>\n",
              "      <td>0.069038</td>\n",
              "      <td>0.025105</td>\n",
              "      <td>0.157895</td>\n",
              "      <td>2.287081</td>\n",
              "      <td>0.014128</td>\n",
              "      <td>1.105518</td>\n",
              "    </tr>\n",
              "    <tr>\n",
              "      <th>15</th>\n",
              "      <td>(27845)</td>\n",
              "      <td>(24852)</td>\n",
              "      <td>0.030335</td>\n",
              "      <td>0.158996</td>\n",
              "      <td>0.011506</td>\n",
              "      <td>0.379310</td>\n",
              "      <td>2.385662</td>\n",
              "      <td>0.006683</td>\n",
              "      <td>1.354951</td>\n",
              "    </tr>\n",
              "    <tr>\n",
              "      <th>16</th>\n",
              "      <td>(28204)</td>\n",
              "      <td>(24852)</td>\n",
              "      <td>0.029289</td>\n",
              "      <td>0.158996</td>\n",
              "      <td>0.014644</td>\n",
              "      <td>0.500000</td>\n",
              "      <td>3.144737</td>\n",
              "      <td>0.009988</td>\n",
              "      <td>1.682008</td>\n",
              "    </tr>\n",
              "    <tr>\n",
              "      <th>17</th>\n",
              "      <td>(45066)</td>\n",
              "      <td>(24852)</td>\n",
              "      <td>0.029289</td>\n",
              "      <td>0.158996</td>\n",
              "      <td>0.011506</td>\n",
              "      <td>0.392857</td>\n",
              "      <td>2.470865</td>\n",
              "      <td>0.006849</td>\n",
              "      <td>1.385183</td>\n",
              "    </tr>\n",
              "    <tr>\n",
              "      <th>18</th>\n",
              "      <td>(47626)</td>\n",
              "      <td>(24852)</td>\n",
              "      <td>0.046025</td>\n",
              "      <td>0.158996</td>\n",
              "      <td>0.010460</td>\n",
              "      <td>0.227273</td>\n",
              "      <td>1.429426</td>\n",
              "      <td>0.003142</td>\n",
              "      <td>1.088358</td>\n",
              "    </tr>\n",
              "    <tr>\n",
              "      <th>19</th>\n",
              "      <td>(47766)</td>\n",
              "      <td>(24852)</td>\n",
              "      <td>0.054393</td>\n",
              "      <td>0.158996</td>\n",
              "      <td>0.016736</td>\n",
              "      <td>0.307692</td>\n",
              "      <td>1.935223</td>\n",
              "      <td>0.008088</td>\n",
              "      <td>1.214784</td>\n",
              "    </tr>\n",
              "    <tr>\n",
              "      <th>20</th>\n",
              "      <td>(24852)</td>\n",
              "      <td>(47766)</td>\n",
              "      <td>0.158996</td>\n",
              "      <td>0.054393</td>\n",
              "      <td>0.016736</td>\n",
              "      <td>0.105263</td>\n",
              "      <td>1.935223</td>\n",
              "      <td>0.008088</td>\n",
              "      <td>1.056855</td>\n",
              "    </tr>\n",
              "    <tr>\n",
              "      <th>21</th>\n",
              "      <td>(49683)</td>\n",
              "      <td>(24852)</td>\n",
              "      <td>0.028243</td>\n",
              "      <td>0.158996</td>\n",
              "      <td>0.010460</td>\n",
              "      <td>0.370370</td>\n",
              "      <td>2.329435</td>\n",
              "      <td>0.005970</td>\n",
              "      <td>1.335713</td>\n",
              "    </tr>\n",
              "    <tr>\n",
              "      <th>22</th>\n",
              "      <td>(9076)</td>\n",
              "      <td>(24852)</td>\n",
              "      <td>0.023013</td>\n",
              "      <td>0.158996</td>\n",
              "      <td>0.010460</td>\n",
              "      <td>0.454545</td>\n",
              "      <td>2.858852</td>\n",
              "      <td>0.006801</td>\n",
              "      <td>1.541841</td>\n",
              "    </tr>\n",
              "  </tbody>\n",
              "</table>\n",
              "</div>"
            ],
            "text/plain": [
              "   antecedents consequents  antecedent support  ...      lift  leverage  conviction\n",
              "0      (21137)     (13176)            0.074268  ...  2.186590  0.010785    1.198282\n",
              "1      (13176)     (21137)            0.122385  ...  2.186590  0.010785    1.105211\n",
              "2      (22935)     (13176)            0.040795  ...  2.095113  0.005468    1.180241\n",
              "3      (27966)     (13176)            0.039749  ...  3.225371  0.010826    1.449973\n",
              "4      (13176)     (27966)            0.122385  ...  3.225371  0.010826    1.101464\n",
              "5      (47209)     (13176)            0.066946  ...  2.808761  0.014819    1.337318\n",
              "6      (13176)     (47209)            0.122385  ...  2.808761  0.014819    1.149130\n",
              "7      (16797)     (24852)            0.054393  ...  1.451417  0.003904    1.093305\n",
              "8      (16797)     (43352)            0.054393  ...  7.071006  0.008981    1.204423\n",
              "9      (43352)     (16797)            0.027197  ...  7.071006  0.008981    1.536611\n",
              "10     (21137)     (24852)            0.074268  ...  0.974426 -0.000302    0.995188\n",
              "11     (47209)     (21137)            0.066946  ...  3.155810  0.010718    1.209120\n",
              "12     (21137)     (47209)            0.074268  ...  3.155810  0.010718    1.182980\n",
              "13     (21903)     (24852)            0.069038  ...  2.287081  0.014128    1.321578\n",
              "14     (24852)     (21903)            0.158996  ...  2.287081  0.014128    1.105518\n",
              "15     (27845)     (24852)            0.030335  ...  2.385662  0.006683    1.354951\n",
              "16     (28204)     (24852)            0.029289  ...  3.144737  0.009988    1.682008\n",
              "17     (45066)     (24852)            0.029289  ...  2.470865  0.006849    1.385183\n",
              "18     (47626)     (24852)            0.046025  ...  1.429426  0.003142    1.088358\n",
              "19     (47766)     (24852)            0.054393  ...  1.935223  0.008088    1.214784\n",
              "20     (24852)     (47766)            0.158996  ...  1.935223  0.008088    1.056855\n",
              "21     (49683)     (24852)            0.028243  ...  2.329435  0.005970    1.335713\n",
              "22      (9076)     (24852)            0.023013  ...  2.858852  0.006801    1.541841\n",
              "\n",
              "[23 rows x 9 columns]"
            ]
          },
          "metadata": {
            "tags": []
          },
          "execution_count": 57
        }
      ]
    },
    {
      "cell_type": "markdown",
      "metadata": {
        "id": "zDbQYHUYcsHZ",
        "colab_type": "text"
      },
      "source": [
        "Як бачимо з таблиці вище, серед АП присутні такі, що мають значення покращення менше за 1, такі правила вважаємо не значущими, їх необхідно видалити."
      ]
    },
    {
      "cell_type": "code",
      "metadata": {
        "colab_type": "code",
        "outputId": "a2516dd4-295d-4872-d0fe-0f7febc482a2",
        "id": "TOQDv-K0a2Mo",
        "colab": {
          "base_uri": "https://localhost:8080/",
          "height": 52
        }
      },
      "source": [
        "%%time\n",
        "apriori_ar = association_rules(frequent_itemsets, min_threshold=.3)\n",
        "apriori_ar = apriori_ar[apriori_ar.lift > 1]\n",
        "apriori_ar = apriori_ar[['antecedents', 'consequents',\n",
        "                         'support', 'confidence', 'lift']]"
      ],
      "execution_count": 45,
      "outputs": [
        {
          "output_type": "stream",
          "text": [
            "CPU times: user 10.3 ms, sys: 1.04 ms, total: 11.3 ms\n",
            "Wall time: 10.3 ms\n"
          ],
          "name": "stdout"
        }
      ]
    },
    {
      "cell_type": "code",
      "metadata": {
        "id": "qpA52GsyFlXi",
        "colab_type": "code",
        "outputId": "4b0e7c95-a322-42a7-bcbb-949bdc9f991e",
        "colab": {
          "base_uri": "https://localhost:8080/",
          "height": 357
        }
      },
      "source": [
        "apriori_ar"
      ],
      "execution_count": 0,
      "outputs": [
        {
          "output_type": "execute_result",
          "data": {
            "text/html": [
              "<div>\n",
              "<style scoped>\n",
              "    .dataframe tbody tr th:only-of-type {\n",
              "        vertical-align: middle;\n",
              "    }\n",
              "\n",
              "    .dataframe tbody tr th {\n",
              "        vertical-align: top;\n",
              "    }\n",
              "\n",
              "    .dataframe thead th {\n",
              "        text-align: right;\n",
              "    }\n",
              "</style>\n",
              "<table border=\"1\" class=\"dataframe\">\n",
              "  <thead>\n",
              "    <tr style=\"text-align: right;\">\n",
              "      <th></th>\n",
              "      <th>antecedents</th>\n",
              "      <th>consequents</th>\n",
              "      <th>support</th>\n",
              "      <th>confidence</th>\n",
              "      <th>lift</th>\n",
              "    </tr>\n",
              "  </thead>\n",
              "  <tbody>\n",
              "    <tr>\n",
              "      <th>0</th>\n",
              "      <td>(27966)</td>\n",
              "      <td>(13176)</td>\n",
              "      <td>0.015690</td>\n",
              "      <td>0.394737</td>\n",
              "      <td>3.225371</td>\n",
              "    </tr>\n",
              "    <tr>\n",
              "      <th>1</th>\n",
              "      <td>(47209)</td>\n",
              "      <td>(13176)</td>\n",
              "      <td>0.023013</td>\n",
              "      <td>0.343750</td>\n",
              "      <td>2.808761</td>\n",
              "    </tr>\n",
              "    <tr>\n",
              "      <th>2</th>\n",
              "      <td>(43352)</td>\n",
              "      <td>(16797)</td>\n",
              "      <td>0.010460</td>\n",
              "      <td>0.384615</td>\n",
              "      <td>7.071006</td>\n",
              "    </tr>\n",
              "    <tr>\n",
              "      <th>3</th>\n",
              "      <td>(21903)</td>\n",
              "      <td>(24852)</td>\n",
              "      <td>0.025105</td>\n",
              "      <td>0.363636</td>\n",
              "      <td>2.287081</td>\n",
              "    </tr>\n",
              "    <tr>\n",
              "      <th>4</th>\n",
              "      <td>(27845)</td>\n",
              "      <td>(24852)</td>\n",
              "      <td>0.011506</td>\n",
              "      <td>0.379310</td>\n",
              "      <td>2.385662</td>\n",
              "    </tr>\n",
              "    <tr>\n",
              "      <th>5</th>\n",
              "      <td>(28204)</td>\n",
              "      <td>(24852)</td>\n",
              "      <td>0.014644</td>\n",
              "      <td>0.500000</td>\n",
              "      <td>3.144737</td>\n",
              "    </tr>\n",
              "    <tr>\n",
              "      <th>6</th>\n",
              "      <td>(45066)</td>\n",
              "      <td>(24852)</td>\n",
              "      <td>0.011506</td>\n",
              "      <td>0.392857</td>\n",
              "      <td>2.470865</td>\n",
              "    </tr>\n",
              "    <tr>\n",
              "      <th>7</th>\n",
              "      <td>(47766)</td>\n",
              "      <td>(24852)</td>\n",
              "      <td>0.016736</td>\n",
              "      <td>0.307692</td>\n",
              "      <td>1.935223</td>\n",
              "    </tr>\n",
              "    <tr>\n",
              "      <th>8</th>\n",
              "      <td>(49683)</td>\n",
              "      <td>(24852)</td>\n",
              "      <td>0.010460</td>\n",
              "      <td>0.370370</td>\n",
              "      <td>2.329435</td>\n",
              "    </tr>\n",
              "    <tr>\n",
              "      <th>9</th>\n",
              "      <td>(9076)</td>\n",
              "      <td>(24852)</td>\n",
              "      <td>0.010460</td>\n",
              "      <td>0.454545</td>\n",
              "      <td>2.858852</td>\n",
              "    </tr>\n",
              "  </tbody>\n",
              "</table>\n",
              "</div>"
            ],
            "text/plain": [
              "  antecedents consequents   support  confidence      lift\n",
              "0     (27966)     (13176)  0.015690    0.394737  3.225371\n",
              "1     (47209)     (13176)  0.023013    0.343750  2.808761\n",
              "2     (43352)     (16797)  0.010460    0.384615  7.071006\n",
              "3     (21903)     (24852)  0.025105    0.363636  2.287081\n",
              "4     (27845)     (24852)  0.011506    0.379310  2.385662\n",
              "5     (28204)     (24852)  0.014644    0.500000  3.144737\n",
              "6     (45066)     (24852)  0.011506    0.392857  2.470865\n",
              "7     (47766)     (24852)  0.016736    0.307692  1.935223\n",
              "8     (49683)     (24852)  0.010460    0.370370  2.329435\n",
              "9      (9076)     (24852)  0.010460    0.454545  2.858852"
            ]
          },
          "metadata": {
            "tags": []
          },
          "execution_count": 17
        }
      ]
    },
    {
      "cell_type": "code",
      "metadata": {
        "id": "tI2hU3rUgsMu",
        "colab_type": "code",
        "outputId": "494d5491-4bab-4992-d562-272370768aa9",
        "colab": {
          "base_uri": "https://localhost:8080/",
          "height": 145
        }
      },
      "source": [
        "%%time\n",
        "association_rules(frequent_itemsets, min_threshold=.4)"
      ],
      "execution_count": 0,
      "outputs": [
        {
          "output_type": "stream",
          "text": [
            "CPU times: user 6.69 ms, sys: 52 µs, total: 6.74 ms\n",
            "Wall time: 6.57 ms\n"
          ],
          "name": "stdout"
        },
        {
          "output_type": "execute_result",
          "data": {
            "text/html": [
              "<div>\n",
              "<style scoped>\n",
              "    .dataframe tbody tr th:only-of-type {\n",
              "        vertical-align: middle;\n",
              "    }\n",
              "\n",
              "    .dataframe tbody tr th {\n",
              "        vertical-align: top;\n",
              "    }\n",
              "\n",
              "    .dataframe thead th {\n",
              "        text-align: right;\n",
              "    }\n",
              "</style>\n",
              "<table border=\"1\" class=\"dataframe\">\n",
              "  <thead>\n",
              "    <tr style=\"text-align: right;\">\n",
              "      <th></th>\n",
              "      <th>antecedents</th>\n",
              "      <th>consequents</th>\n",
              "      <th>antecedent support</th>\n",
              "      <th>consequent support</th>\n",
              "      <th>support</th>\n",
              "      <th>confidence</th>\n",
              "      <th>lift</th>\n",
              "      <th>leverage</th>\n",
              "      <th>conviction</th>\n",
              "    </tr>\n",
              "  </thead>\n",
              "  <tbody>\n",
              "    <tr>\n",
              "      <th>0</th>\n",
              "      <td>(28204)</td>\n",
              "      <td>(24852)</td>\n",
              "      <td>0.029289</td>\n",
              "      <td>0.158996</td>\n",
              "      <td>0.014644</td>\n",
              "      <td>0.500000</td>\n",
              "      <td>3.144737</td>\n",
              "      <td>0.009988</td>\n",
              "      <td>1.682008</td>\n",
              "    </tr>\n",
              "    <tr>\n",
              "      <th>1</th>\n",
              "      <td>(9076)</td>\n",
              "      <td>(24852)</td>\n",
              "      <td>0.023013</td>\n",
              "      <td>0.158996</td>\n",
              "      <td>0.010460</td>\n",
              "      <td>0.454545</td>\n",
              "      <td>2.858852</td>\n",
              "      <td>0.006801</td>\n",
              "      <td>1.541841</td>\n",
              "    </tr>\n",
              "  </tbody>\n",
              "</table>\n",
              "</div>"
            ],
            "text/plain": [
              "  antecedents consequents  antecedent support  ...      lift  leverage  conviction\n",
              "0     (28204)     (24852)            0.029289  ...  3.144737  0.009988    1.682008\n",
              "1      (9076)     (24852)            0.023013  ...  2.858852  0.006801    1.541841\n",
              "\n",
              "[2 rows x 9 columns]"
            ]
          },
          "metadata": {
            "tags": []
          },
          "execution_count": 62
        }
      ]
    },
    {
      "cell_type": "code",
      "metadata": {
        "colab_type": "code",
        "outputId": "4d230af1-42ec-4673-b574-c553f9d44905",
        "id": "qWjdG0nca2SE",
        "colab": {
          "base_uri": "https://localhost:8080/",
          "height": 114
        }
      },
      "source": [
        "%%time\n",
        "association_rules(frequent_itemsets, min_threshold=.5)"
      ],
      "execution_count": 0,
      "outputs": [
        {
          "output_type": "stream",
          "text": [
            "CPU times: user 7.78 ms, sys: 0 ns, total: 7.78 ms\n",
            "Wall time: 8.66 ms\n"
          ],
          "name": "stdout"
        },
        {
          "output_type": "execute_result",
          "data": {
            "text/html": [
              "<div>\n",
              "<style scoped>\n",
              "    .dataframe tbody tr th:only-of-type {\n",
              "        vertical-align: middle;\n",
              "    }\n",
              "\n",
              "    .dataframe tbody tr th {\n",
              "        vertical-align: top;\n",
              "    }\n",
              "\n",
              "    .dataframe thead th {\n",
              "        text-align: right;\n",
              "    }\n",
              "</style>\n",
              "<table border=\"1\" class=\"dataframe\">\n",
              "  <thead>\n",
              "    <tr style=\"text-align: right;\">\n",
              "      <th></th>\n",
              "      <th>antecedents</th>\n",
              "      <th>consequents</th>\n",
              "      <th>antecedent support</th>\n",
              "      <th>consequent support</th>\n",
              "      <th>support</th>\n",
              "      <th>confidence</th>\n",
              "      <th>lift</th>\n",
              "      <th>leverage</th>\n",
              "      <th>conviction</th>\n",
              "    </tr>\n",
              "  </thead>\n",
              "  <tbody>\n",
              "    <tr>\n",
              "      <th>0</th>\n",
              "      <td>(28204)</td>\n",
              "      <td>(24852)</td>\n",
              "      <td>0.029289</td>\n",
              "      <td>0.158996</td>\n",
              "      <td>0.014644</td>\n",
              "      <td>0.5</td>\n",
              "      <td>3.144737</td>\n",
              "      <td>0.009988</td>\n",
              "      <td>1.682008</td>\n",
              "    </tr>\n",
              "  </tbody>\n",
              "</table>\n",
              "</div>"
            ],
            "text/plain": [
              "  antecedents consequents  antecedent support  ...      lift  leverage  conviction\n",
              "0     (28204)     (24852)            0.029289  ...  3.144737  0.009988    1.682008\n",
              "\n",
              "[1 rows x 9 columns]"
            ]
          },
          "metadata": {
            "tags": []
          },
          "execution_count": 63
        }
      ]
    },
    {
      "cell_type": "markdown",
      "metadata": {
        "id": "mtEg3RKmfvix",
        "colab_type": "text"
      },
      "source": [
        "Як бачимо з останніх двох таблиць, при збільшенні параметру `min_threshold` від 0.1 до 0.5 кількість АП стрімко зменшується. При цьому відсоток значущих наборів серед них збільшується. "
      ]
    },
    {
      "cell_type": "markdown",
      "metadata": {
        "id": "mMr0Zxm3dc1f",
        "colab_type": "text"
      },
      "source": [
        "# 3. Алгоритм FP-росту\n",
        "\n",
        "**Input**: База даних DB, представлена як FP-дерево побудоване відповідно до алгоритму описаному в [2], та мінімальний поріг підтримки $\\xi$. \n",
        "\n",
        "**Output**: Повна множина частих наборів.\n",
        "\n",
        "## Псевдокод алгоритму:"
      ]
    },
    {
      "cell_type": "markdown",
      "metadata": {
        "id": "ALPchTOf7uDq",
        "colab_type": "text"
      },
      "source": [
        "![image.png](data:image/png;base64,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)"
      ]
    },
    {
      "cell_type": "markdown",
      "metadata": {
        "id": "EvcaeyIJytqt",
        "colab_type": "text"
      },
      "source": [
        "Дослiдити множини АП залежно вiд параметрiв побудови АП, якi було наведено вище для Apriori. Пiдiбрати значення параметрiв алгоритму FP-росту, якi призводять до значущих АП."
      ]
    },
    {
      "cell_type": "code",
      "metadata": {
        "id": "_MEgCDuAzFR-",
        "colab_type": "code",
        "outputId": "5c9115ea-e0c4-4cd2-d22d-332c185d5eb4",
        "cellView": "both",
        "colab": {
          "base_uri": "https://localhost:8080/",
          "height": 52
        }
      },
      "source": [
        "%%time\n",
        "frequent_itemsets = fpgrowth(order_product_df, use_colnames=True,\n",
        "                             min_support=.01)"
      ],
      "execution_count": 119,
      "outputs": [
        {
          "output_type": "stream",
          "text": [
            "CPU times: user 161 ms, sys: 6.84 ms, total: 168 ms\n",
            "Wall time: 169 ms\n"
          ],
          "name": "stdout"
        }
      ]
    },
    {
      "cell_type": "code",
      "metadata": {
        "id": "ztjf5IVcz6d3",
        "colab_type": "code",
        "outputId": "48dd3b6f-479f-4421-f280-dd2a9b488394",
        "colab": {
          "base_uri": "https://localhost:8080/",
          "height": 418
        }
      },
      "source": [
        "frequent_itemsets"
      ],
      "execution_count": 0,
      "outputs": [
        {
          "output_type": "execute_result",
          "data": {
            "text/html": [
              "<div>\n",
              "<style scoped>\n",
              "    .dataframe tbody tr th:only-of-type {\n",
              "        vertical-align: middle;\n",
              "    }\n",
              "\n",
              "    .dataframe tbody tr th {\n",
              "        vertical-align: top;\n",
              "    }\n",
              "\n",
              "    .dataframe thead th {\n",
              "        text-align: right;\n",
              "    }\n",
              "</style>\n",
              "<table border=\"1\" class=\"dataframe\">\n",
              "  <thead>\n",
              "    <tr style=\"text-align: right;\">\n",
              "      <th></th>\n",
              "      <th>support</th>\n",
              "      <th>itemsets</th>\n",
              "    </tr>\n",
              "  </thead>\n",
              "  <tbody>\n",
              "    <tr>\n",
              "      <th>0</th>\n",
              "      <td>0.158996</td>\n",
              "      <td>(24852)</td>\n",
              "    </tr>\n",
              "    <tr>\n",
              "      <th>1</th>\n",
              "      <td>0.074268</td>\n",
              "      <td>(21137)</td>\n",
              "    </tr>\n",
              "    <tr>\n",
              "      <th>2</th>\n",
              "      <td>0.054393</td>\n",
              "      <td>(47766)</td>\n",
              "    </tr>\n",
              "    <tr>\n",
              "      <th>3</th>\n",
              "      <td>0.021967</td>\n",
              "      <td>(31717)</td>\n",
              "    </tr>\n",
              "    <tr>\n",
              "      <th>4</th>\n",
              "      <td>0.019874</td>\n",
              "      <td>(4605)</td>\n",
              "    </tr>\n",
              "    <tr>\n",
              "      <th>...</th>\n",
              "      <td>...</td>\n",
              "      <td>...</td>\n",
              "    </tr>\n",
              "    <tr>\n",
              "      <th>130</th>\n",
              "      <td>0.010460</td>\n",
              "      <td>(24852, 9076)</td>\n",
              "    </tr>\n",
              "    <tr>\n",
              "      <th>131</th>\n",
              "      <td>0.011506</td>\n",
              "      <td>(27845, 24852)</td>\n",
              "    </tr>\n",
              "    <tr>\n",
              "      <th>132</th>\n",
              "      <td>0.010460</td>\n",
              "      <td>(13176, 22935)</td>\n",
              "    </tr>\n",
              "    <tr>\n",
              "      <th>133</th>\n",
              "      <td>0.011506</td>\n",
              "      <td>(45066, 24852)</td>\n",
              "    </tr>\n",
              "    <tr>\n",
              "      <th>134</th>\n",
              "      <td>0.010460</td>\n",
              "      <td>(43352, 16797)</td>\n",
              "    </tr>\n",
              "  </tbody>\n",
              "</table>\n",
              "<p>135 rows × 2 columns</p>\n",
              "</div>"
            ],
            "text/plain": [
              "      support        itemsets\n",
              "0    0.158996         (24852)\n",
              "1    0.074268         (21137)\n",
              "2    0.054393         (47766)\n",
              "3    0.021967         (31717)\n",
              "4    0.019874          (4605)\n",
              "..        ...             ...\n",
              "130  0.010460   (24852, 9076)\n",
              "131  0.011506  (27845, 24852)\n",
              "132  0.010460  (13176, 22935)\n",
              "133  0.011506  (45066, 24852)\n",
              "134  0.010460  (43352, 16797)\n",
              "\n",
              "[135 rows x 2 columns]"
            ]
          },
          "metadata": {
            "tags": []
          },
          "execution_count": 8
        }
      ]
    },
    {
      "cell_type": "code",
      "metadata": {
        "colab_type": "code",
        "outputId": "08851cbc-a183-4e1e-a8f6-cdb623107623",
        "id": "MIBSSJ7Soxx9",
        "colab": {
          "base_uri": "https://localhost:8080/",
          "height": 516
        }
      },
      "source": [
        "%%time\n",
        "fpgrowth(order_product_df, use_colnames=True, min_support=.03)"
      ],
      "execution_count": 0,
      "outputs": [
        {
          "output_type": "stream",
          "text": [
            "CPU times: user 125 ms, sys: 0 ns, total: 125 ms\n",
            "Wall time: 125 ms\n"
          ],
          "name": "stdout"
        },
        {
          "output_type": "execute_result",
          "data": {
            "text/html": [
              "<div>\n",
              "<style scoped>\n",
              "    .dataframe tbody tr th:only-of-type {\n",
              "        vertical-align: middle;\n",
              "    }\n",
              "\n",
              "    .dataframe tbody tr th {\n",
              "        vertical-align: top;\n",
              "    }\n",
              "\n",
              "    .dataframe thead th {\n",
              "        text-align: right;\n",
              "    }\n",
              "</style>\n",
              "<table border=\"1\" class=\"dataframe\">\n",
              "  <thead>\n",
              "    <tr style=\"text-align: right;\">\n",
              "      <th></th>\n",
              "      <th>support</th>\n",
              "      <th>itemsets</th>\n",
              "    </tr>\n",
              "  </thead>\n",
              "  <tbody>\n",
              "    <tr>\n",
              "      <th>0</th>\n",
              "      <td>0.158996</td>\n",
              "      <td>(24852)</td>\n",
              "    </tr>\n",
              "    <tr>\n",
              "      <th>1</th>\n",
              "      <td>0.074268</td>\n",
              "      <td>(21137)</td>\n",
              "    </tr>\n",
              "    <tr>\n",
              "      <th>2</th>\n",
              "      <td>0.054393</td>\n",
              "      <td>(47766)</td>\n",
              "    </tr>\n",
              "    <tr>\n",
              "      <th>3</th>\n",
              "      <td>0.046025</td>\n",
              "      <td>(47626)</td>\n",
              "    </tr>\n",
              "    <tr>\n",
              "      <th>4</th>\n",
              "      <td>0.039749</td>\n",
              "      <td>(27966)</td>\n",
              "    </tr>\n",
              "    <tr>\n",
              "      <th>5</th>\n",
              "      <td>0.122385</td>\n",
              "      <td>(13176)</td>\n",
              "    </tr>\n",
              "    <tr>\n",
              "      <th>6</th>\n",
              "      <td>0.054393</td>\n",
              "      <td>(16797)</td>\n",
              "    </tr>\n",
              "    <tr>\n",
              "      <th>7</th>\n",
              "      <td>0.069038</td>\n",
              "      <td>(21903)</td>\n",
              "    </tr>\n",
              "    <tr>\n",
              "      <th>8</th>\n",
              "      <td>0.066946</td>\n",
              "      <td>(47209)</td>\n",
              "    </tr>\n",
              "    <tr>\n",
              "      <th>9</th>\n",
              "      <td>0.030335</td>\n",
              "      <td>(27845)</td>\n",
              "    </tr>\n",
              "    <tr>\n",
              "      <th>10</th>\n",
              "      <td>0.040795</td>\n",
              "      <td>(22935)</td>\n",
              "    </tr>\n",
              "    <tr>\n",
              "      <th>11</th>\n",
              "      <td>0.034519</td>\n",
              "      <td>(24964)</td>\n",
              "    </tr>\n",
              "    <tr>\n",
              "      <th>12</th>\n",
              "      <td>0.033473</td>\n",
              "      <td>(39275)</td>\n",
              "    </tr>\n",
              "    <tr>\n",
              "      <th>13</th>\n",
              "      <td>0.034519</td>\n",
              "      <td>(26209)</td>\n",
              "    </tr>\n",
              "  </tbody>\n",
              "</table>\n",
              "</div>"
            ],
            "text/plain": [
              "     support itemsets\n",
              "0   0.158996  (24852)\n",
              "1   0.074268  (21137)\n",
              "2   0.054393  (47766)\n",
              "3   0.046025  (47626)\n",
              "4   0.039749  (27966)\n",
              "5   0.122385  (13176)\n",
              "6   0.054393  (16797)\n",
              "7   0.069038  (21903)\n",
              "8   0.066946  (47209)\n",
              "9   0.030335  (27845)\n",
              "10  0.040795  (22935)\n",
              "11  0.034519  (24964)\n",
              "12  0.033473  (39275)\n",
              "13  0.034519  (26209)"
            ]
          },
          "metadata": {
            "tags": []
          },
          "execution_count": 66
        }
      ]
    },
    {
      "cell_type": "code",
      "metadata": {
        "colab_type": "code",
        "outputId": "43d385c8-44aa-4cd9-b9bb-a7048a3b0418",
        "id": "sQfriLYWoyJd",
        "colab": {
          "base_uri": "https://localhost:8080/",
          "height": 300
        }
      },
      "source": [
        "%%time\n",
        "fpgrowth(order_product_df, use_colnames=True, min_support=.05)"
      ],
      "execution_count": 0,
      "outputs": [
        {
          "output_type": "stream",
          "text": [
            "CPU times: user 121 ms, sys: 758 µs, total: 122 ms\n",
            "Wall time: 126 ms\n"
          ],
          "name": "stdout"
        },
        {
          "output_type": "execute_result",
          "data": {
            "text/html": [
              "<div>\n",
              "<style scoped>\n",
              "    .dataframe tbody tr th:only-of-type {\n",
              "        vertical-align: middle;\n",
              "    }\n",
              "\n",
              "    .dataframe tbody tr th {\n",
              "        vertical-align: top;\n",
              "    }\n",
              "\n",
              "    .dataframe thead th {\n",
              "        text-align: right;\n",
              "    }\n",
              "</style>\n",
              "<table border=\"1\" class=\"dataframe\">\n",
              "  <thead>\n",
              "    <tr style=\"text-align: right;\">\n",
              "      <th></th>\n",
              "      <th>support</th>\n",
              "      <th>itemsets</th>\n",
              "    </tr>\n",
              "  </thead>\n",
              "  <tbody>\n",
              "    <tr>\n",
              "      <th>0</th>\n",
              "      <td>0.158996</td>\n",
              "      <td>(24852)</td>\n",
              "    </tr>\n",
              "    <tr>\n",
              "      <th>1</th>\n",
              "      <td>0.074268</td>\n",
              "      <td>(21137)</td>\n",
              "    </tr>\n",
              "    <tr>\n",
              "      <th>2</th>\n",
              "      <td>0.054393</td>\n",
              "      <td>(47766)</td>\n",
              "    </tr>\n",
              "    <tr>\n",
              "      <th>3</th>\n",
              "      <td>0.122385</td>\n",
              "      <td>(13176)</td>\n",
              "    </tr>\n",
              "    <tr>\n",
              "      <th>4</th>\n",
              "      <td>0.054393</td>\n",
              "      <td>(16797)</td>\n",
              "    </tr>\n",
              "    <tr>\n",
              "      <th>5</th>\n",
              "      <td>0.069038</td>\n",
              "      <td>(21903)</td>\n",
              "    </tr>\n",
              "    <tr>\n",
              "      <th>6</th>\n",
              "      <td>0.066946</td>\n",
              "      <td>(47209)</td>\n",
              "    </tr>\n",
              "  </tbody>\n",
              "</table>\n",
              "</div>"
            ],
            "text/plain": [
              "    support itemsets\n",
              "0  0.158996  (24852)\n",
              "1  0.074268  (21137)\n",
              "2  0.054393  (47766)\n",
              "3  0.122385  (13176)\n",
              "4  0.054393  (16797)\n",
              "5  0.069038  (21903)\n",
              "6  0.066946  (47209)"
            ]
          },
          "metadata": {
            "tags": []
          },
          "execution_count": 67
        }
      ]
    },
    {
      "cell_type": "code",
      "metadata": {
        "id": "pGbXEBlrr9If",
        "colab_type": "code",
        "outputId": "43c60c32-5ee7-4eb0-83e1-8023e6d73581",
        "colab": {
          "base_uri": "https://localhost:8080/",
          "height": 794
        }
      },
      "source": [
        "%%time\n",
        "association_rules(frequent_itemsets, metric='confidence', min_threshold=.1)"
      ],
      "execution_count": 0,
      "outputs": [
        {
          "output_type": "stream",
          "text": [
            "CPU times: user 6.11 ms, sys: 1 µs, total: 6.12 ms\n",
            "Wall time: 5.41 ms\n"
          ],
          "name": "stdout"
        },
        {
          "output_type": "execute_result",
          "data": {
            "text/html": [
              "<div>\n",
              "<style scoped>\n",
              "    .dataframe tbody tr th:only-of-type {\n",
              "        vertical-align: middle;\n",
              "    }\n",
              "\n",
              "    .dataframe tbody tr th {\n",
              "        vertical-align: top;\n",
              "    }\n",
              "\n",
              "    .dataframe thead th {\n",
              "        text-align: right;\n",
              "    }\n",
              "</style>\n",
              "<table border=\"1\" class=\"dataframe\">\n",
              "  <thead>\n",
              "    <tr style=\"text-align: right;\">\n",
              "      <th></th>\n",
              "      <th>antecedents</th>\n",
              "      <th>consequents</th>\n",
              "      <th>antecedent support</th>\n",
              "      <th>consequent support</th>\n",
              "      <th>support</th>\n",
              "      <th>confidence</th>\n",
              "      <th>lift</th>\n",
              "      <th>leverage</th>\n",
              "      <th>conviction</th>\n",
              "    </tr>\n",
              "  </thead>\n",
              "  <tbody>\n",
              "    <tr>\n",
              "      <th>0</th>\n",
              "      <td>(21137)</td>\n",
              "      <td>(24852)</td>\n",
              "      <td>0.074268</td>\n",
              "      <td>0.158996</td>\n",
              "      <td>0.011506</td>\n",
              "      <td>0.154930</td>\n",
              "      <td>0.974426</td>\n",
              "      <td>-0.000302</td>\n",
              "      <td>0.995188</td>\n",
              "    </tr>\n",
              "    <tr>\n",
              "      <th>1</th>\n",
              "      <td>(21137)</td>\n",
              "      <td>(13176)</td>\n",
              "      <td>0.074268</td>\n",
              "      <td>0.122385</td>\n",
              "      <td>0.019874</td>\n",
              "      <td>0.267606</td>\n",
              "      <td>2.186590</td>\n",
              "      <td>0.010785</td>\n",
              "      <td>1.198282</td>\n",
              "    </tr>\n",
              "    <tr>\n",
              "      <th>2</th>\n",
              "      <td>(13176)</td>\n",
              "      <td>(21137)</td>\n",
              "      <td>0.122385</td>\n",
              "      <td>0.074268</td>\n",
              "      <td>0.019874</td>\n",
              "      <td>0.162393</td>\n",
              "      <td>2.186590</td>\n",
              "      <td>0.010785</td>\n",
              "      <td>1.105211</td>\n",
              "    </tr>\n",
              "    <tr>\n",
              "      <th>3</th>\n",
              "      <td>(47766)</td>\n",
              "      <td>(24852)</td>\n",
              "      <td>0.054393</td>\n",
              "      <td>0.158996</td>\n",
              "      <td>0.016736</td>\n",
              "      <td>0.307692</td>\n",
              "      <td>1.935223</td>\n",
              "      <td>0.008088</td>\n",
              "      <td>1.214784</td>\n",
              "    </tr>\n",
              "    <tr>\n",
              "      <th>4</th>\n",
              "      <td>(24852)</td>\n",
              "      <td>(47766)</td>\n",
              "      <td>0.158996</td>\n",
              "      <td>0.054393</td>\n",
              "      <td>0.016736</td>\n",
              "      <td>0.105263</td>\n",
              "      <td>1.935223</td>\n",
              "      <td>0.008088</td>\n",
              "      <td>1.056855</td>\n",
              "    </tr>\n",
              "    <tr>\n",
              "      <th>5</th>\n",
              "      <td>(47626)</td>\n",
              "      <td>(24852)</td>\n",
              "      <td>0.046025</td>\n",
              "      <td>0.158996</td>\n",
              "      <td>0.010460</td>\n",
              "      <td>0.227273</td>\n",
              "      <td>1.429426</td>\n",
              "      <td>0.003142</td>\n",
              "      <td>1.088358</td>\n",
              "    </tr>\n",
              "    <tr>\n",
              "      <th>6</th>\n",
              "      <td>(27966)</td>\n",
              "      <td>(13176)</td>\n",
              "      <td>0.039749</td>\n",
              "      <td>0.122385</td>\n",
              "      <td>0.015690</td>\n",
              "      <td>0.394737</td>\n",
              "      <td>3.225371</td>\n",
              "      <td>0.010826</td>\n",
              "      <td>1.449973</td>\n",
              "    </tr>\n",
              "    <tr>\n",
              "      <th>7</th>\n",
              "      <td>(13176)</td>\n",
              "      <td>(27966)</td>\n",
              "      <td>0.122385</td>\n",
              "      <td>0.039749</td>\n",
              "      <td>0.015690</td>\n",
              "      <td>0.128205</td>\n",
              "      <td>3.225371</td>\n",
              "      <td>0.010826</td>\n",
              "      <td>1.101464</td>\n",
              "    </tr>\n",
              "    <tr>\n",
              "      <th>8</th>\n",
              "      <td>(28204)</td>\n",
              "      <td>(24852)</td>\n",
              "      <td>0.029289</td>\n",
              "      <td>0.158996</td>\n",
              "      <td>0.014644</td>\n",
              "      <td>0.500000</td>\n",
              "      <td>3.144737</td>\n",
              "      <td>0.009988</td>\n",
              "      <td>1.682008</td>\n",
              "    </tr>\n",
              "    <tr>\n",
              "      <th>9</th>\n",
              "      <td>(16797)</td>\n",
              "      <td>(24852)</td>\n",
              "      <td>0.054393</td>\n",
              "      <td>0.158996</td>\n",
              "      <td>0.012552</td>\n",
              "      <td>0.230769</td>\n",
              "      <td>1.451417</td>\n",
              "      <td>0.003904</td>\n",
              "      <td>1.093305</td>\n",
              "    </tr>\n",
              "    <tr>\n",
              "      <th>10</th>\n",
              "      <td>(49683)</td>\n",
              "      <td>(24852)</td>\n",
              "      <td>0.028243</td>\n",
              "      <td>0.158996</td>\n",
              "      <td>0.010460</td>\n",
              "      <td>0.370370</td>\n",
              "      <td>2.329435</td>\n",
              "      <td>0.005970</td>\n",
              "      <td>1.335713</td>\n",
              "    </tr>\n",
              "    <tr>\n",
              "      <th>11</th>\n",
              "      <td>(21903)</td>\n",
              "      <td>(24852)</td>\n",
              "      <td>0.069038</td>\n",
              "      <td>0.158996</td>\n",
              "      <td>0.025105</td>\n",
              "      <td>0.363636</td>\n",
              "      <td>2.287081</td>\n",
              "      <td>0.014128</td>\n",
              "      <td>1.321578</td>\n",
              "    </tr>\n",
              "    <tr>\n",
              "      <th>12</th>\n",
              "      <td>(24852)</td>\n",
              "      <td>(21903)</td>\n",
              "      <td>0.158996</td>\n",
              "      <td>0.069038</td>\n",
              "      <td>0.025105</td>\n",
              "      <td>0.157895</td>\n",
              "      <td>2.287081</td>\n",
              "      <td>0.014128</td>\n",
              "      <td>1.105518</td>\n",
              "    </tr>\n",
              "    <tr>\n",
              "      <th>13</th>\n",
              "      <td>(47209)</td>\n",
              "      <td>(13176)</td>\n",
              "      <td>0.066946</td>\n",
              "      <td>0.122385</td>\n",
              "      <td>0.023013</td>\n",
              "      <td>0.343750</td>\n",
              "      <td>2.808761</td>\n",
              "      <td>0.014819</td>\n",
              "      <td>1.337318</td>\n",
              "    </tr>\n",
              "    <tr>\n",
              "      <th>14</th>\n",
              "      <td>(13176)</td>\n",
              "      <td>(47209)</td>\n",
              "      <td>0.122385</td>\n",
              "      <td>0.066946</td>\n",
              "      <td>0.023013</td>\n",
              "      <td>0.188034</td>\n",
              "      <td>2.808761</td>\n",
              "      <td>0.014819</td>\n",
              "      <td>1.149130</td>\n",
              "    </tr>\n",
              "    <tr>\n",
              "      <th>15</th>\n",
              "      <td>(47209)</td>\n",
              "      <td>(21137)</td>\n",
              "      <td>0.066946</td>\n",
              "      <td>0.074268</td>\n",
              "      <td>0.015690</td>\n",
              "      <td>0.234375</td>\n",
              "      <td>3.155810</td>\n",
              "      <td>0.010718</td>\n",
              "      <td>1.209120</td>\n",
              "    </tr>\n",
              "    <tr>\n",
              "      <th>16</th>\n",
              "      <td>(21137)</td>\n",
              "      <td>(47209)</td>\n",
              "      <td>0.074268</td>\n",
              "      <td>0.066946</td>\n",
              "      <td>0.015690</td>\n",
              "      <td>0.211268</td>\n",
              "      <td>3.155810</td>\n",
              "      <td>0.010718</td>\n",
              "      <td>1.182980</td>\n",
              "    </tr>\n",
              "    <tr>\n",
              "      <th>17</th>\n",
              "      <td>(9076)</td>\n",
              "      <td>(24852)</td>\n",
              "      <td>0.023013</td>\n",
              "      <td>0.158996</td>\n",
              "      <td>0.010460</td>\n",
              "      <td>0.454545</td>\n",
              "      <td>2.858852</td>\n",
              "      <td>0.006801</td>\n",
              "      <td>1.541841</td>\n",
              "    </tr>\n",
              "    <tr>\n",
              "      <th>18</th>\n",
              "      <td>(27845)</td>\n",
              "      <td>(24852)</td>\n",
              "      <td>0.030335</td>\n",
              "      <td>0.158996</td>\n",
              "      <td>0.011506</td>\n",
              "      <td>0.379310</td>\n",
              "      <td>2.385662</td>\n",
              "      <td>0.006683</td>\n",
              "      <td>1.354951</td>\n",
              "    </tr>\n",
              "    <tr>\n",
              "      <th>19</th>\n",
              "      <td>(22935)</td>\n",
              "      <td>(13176)</td>\n",
              "      <td>0.040795</td>\n",
              "      <td>0.122385</td>\n",
              "      <td>0.010460</td>\n",
              "      <td>0.256410</td>\n",
              "      <td>2.095113</td>\n",
              "      <td>0.005468</td>\n",
              "      <td>1.180241</td>\n",
              "    </tr>\n",
              "    <tr>\n",
              "      <th>20</th>\n",
              "      <td>(45066)</td>\n",
              "      <td>(24852)</td>\n",
              "      <td>0.029289</td>\n",
              "      <td>0.158996</td>\n",
              "      <td>0.011506</td>\n",
              "      <td>0.392857</td>\n",
              "      <td>2.470865</td>\n",
              "      <td>0.006849</td>\n",
              "      <td>1.385183</td>\n",
              "    </tr>\n",
              "    <tr>\n",
              "      <th>21</th>\n",
              "      <td>(16797)</td>\n",
              "      <td>(43352)</td>\n",
              "      <td>0.054393</td>\n",
              "      <td>0.027197</td>\n",
              "      <td>0.010460</td>\n",
              "      <td>0.192308</td>\n",
              "      <td>7.071006</td>\n",
              "      <td>0.008981</td>\n",
              "      <td>1.204423</td>\n",
              "    </tr>\n",
              "    <tr>\n",
              "      <th>22</th>\n",
              "      <td>(43352)</td>\n",
              "      <td>(16797)</td>\n",
              "      <td>0.027197</td>\n",
              "      <td>0.054393</td>\n",
              "      <td>0.010460</td>\n",
              "      <td>0.384615</td>\n",
              "      <td>7.071006</td>\n",
              "      <td>0.008981</td>\n",
              "      <td>1.536611</td>\n",
              "    </tr>\n",
              "  </tbody>\n",
              "</table>\n",
              "</div>"
            ],
            "text/plain": [
              "   antecedents consequents  antecedent support  ...      lift  leverage  conviction\n",
              "0      (21137)     (24852)            0.074268  ...  0.974426 -0.000302    0.995188\n",
              "1      (21137)     (13176)            0.074268  ...  2.186590  0.010785    1.198282\n",
              "2      (13176)     (21137)            0.122385  ...  2.186590  0.010785    1.105211\n",
              "3      (47766)     (24852)            0.054393  ...  1.935223  0.008088    1.214784\n",
              "4      (24852)     (47766)            0.158996  ...  1.935223  0.008088    1.056855\n",
              "5      (47626)     (24852)            0.046025  ...  1.429426  0.003142    1.088358\n",
              "6      (27966)     (13176)            0.039749  ...  3.225371  0.010826    1.449973\n",
              "7      (13176)     (27966)            0.122385  ...  3.225371  0.010826    1.101464\n",
              "8      (28204)     (24852)            0.029289  ...  3.144737  0.009988    1.682008\n",
              "9      (16797)     (24852)            0.054393  ...  1.451417  0.003904    1.093305\n",
              "10     (49683)     (24852)            0.028243  ...  2.329435  0.005970    1.335713\n",
              "11     (21903)     (24852)            0.069038  ...  2.287081  0.014128    1.321578\n",
              "12     (24852)     (21903)            0.158996  ...  2.287081  0.014128    1.105518\n",
              "13     (47209)     (13176)            0.066946  ...  2.808761  0.014819    1.337318\n",
              "14     (13176)     (47209)            0.122385  ...  2.808761  0.014819    1.149130\n",
              "15     (47209)     (21137)            0.066946  ...  3.155810  0.010718    1.209120\n",
              "16     (21137)     (47209)            0.074268  ...  3.155810  0.010718    1.182980\n",
              "17      (9076)     (24852)            0.023013  ...  2.858852  0.006801    1.541841\n",
              "18     (27845)     (24852)            0.030335  ...  2.385662  0.006683    1.354951\n",
              "19     (22935)     (13176)            0.040795  ...  2.095113  0.005468    1.180241\n",
              "20     (45066)     (24852)            0.029289  ...  2.470865  0.006849    1.385183\n",
              "21     (16797)     (43352)            0.054393  ...  7.071006  0.008981    1.204423\n",
              "22     (43352)     (16797)            0.027197  ...  7.071006  0.008981    1.536611\n",
              "\n",
              "[23 rows x 9 columns]"
            ]
          },
          "metadata": {
            "tags": []
          },
          "execution_count": 68
        }
      ]
    },
    {
      "cell_type": "code",
      "metadata": {
        "id": "A7wNaguK7JkM",
        "colab_type": "code",
        "outputId": "969fde39-06ba-4969-a87e-56814f0e817c",
        "colab": {
          "base_uri": "https://localhost:8080/",
          "height": 52
        }
      },
      "source": [
        "%%time\n",
        "fp_growth_ar = association_rules(frequent_itemsets, metric='confidence', \n",
        "                               min_threshold=.3)\n",
        "fp_growth_ar = fp_growth_ar[fp_growth_ar.lift > 1]\n",
        "fp_growth_ar = fp_growth_ar[['antecedents', 'consequents',\n",
        "                             'support', 'confidence', 'lift']]"
      ],
      "execution_count": 120,
      "outputs": [
        {
          "output_type": "stream",
          "text": [
            "CPU times: user 10.1 ms, sys: 1.96 ms, total: 12.1 ms\n",
            "Wall time: 11.2 ms\n"
          ],
          "name": "stdout"
        }
      ]
    },
    {
      "cell_type": "code",
      "metadata": {
        "id": "jXO39WAUF6M6",
        "colab_type": "code",
        "outputId": "8b62dd9a-0100-4510-db88-e124fe7699d1",
        "colab": {
          "base_uri": "https://localhost:8080/",
          "height": 357
        }
      },
      "source": [
        "fp_growth_ar"
      ],
      "execution_count": 0,
      "outputs": [
        {
          "output_type": "execute_result",
          "data": {
            "text/html": [
              "<div>\n",
              "<style scoped>\n",
              "    .dataframe tbody tr th:only-of-type {\n",
              "        vertical-align: middle;\n",
              "    }\n",
              "\n",
              "    .dataframe tbody tr th {\n",
              "        vertical-align: top;\n",
              "    }\n",
              "\n",
              "    .dataframe thead th {\n",
              "        text-align: right;\n",
              "    }\n",
              "</style>\n",
              "<table border=\"1\" class=\"dataframe\">\n",
              "  <thead>\n",
              "    <tr style=\"text-align: right;\">\n",
              "      <th></th>\n",
              "      <th>antecedents</th>\n",
              "      <th>consequents</th>\n",
              "      <th>support</th>\n",
              "      <th>confidence</th>\n",
              "      <th>lift</th>\n",
              "    </tr>\n",
              "  </thead>\n",
              "  <tbody>\n",
              "    <tr>\n",
              "      <th>0</th>\n",
              "      <td>(47766)</td>\n",
              "      <td>(24852)</td>\n",
              "      <td>0.016736</td>\n",
              "      <td>0.307692</td>\n",
              "      <td>1.935223</td>\n",
              "    </tr>\n",
              "    <tr>\n",
              "      <th>1</th>\n",
              "      <td>(27966)</td>\n",
              "      <td>(13176)</td>\n",
              "      <td>0.015690</td>\n",
              "      <td>0.394737</td>\n",
              "      <td>3.225371</td>\n",
              "    </tr>\n",
              "    <tr>\n",
              "      <th>2</th>\n",
              "      <td>(28204)</td>\n",
              "      <td>(24852)</td>\n",
              "      <td>0.014644</td>\n",
              "      <td>0.500000</td>\n",
              "      <td>3.144737</td>\n",
              "    </tr>\n",
              "    <tr>\n",
              "      <th>3</th>\n",
              "      <td>(49683)</td>\n",
              "      <td>(24852)</td>\n",
              "      <td>0.010460</td>\n",
              "      <td>0.370370</td>\n",
              "      <td>2.329435</td>\n",
              "    </tr>\n",
              "    <tr>\n",
              "      <th>4</th>\n",
              "      <td>(21903)</td>\n",
              "      <td>(24852)</td>\n",
              "      <td>0.025105</td>\n",
              "      <td>0.363636</td>\n",
              "      <td>2.287081</td>\n",
              "    </tr>\n",
              "    <tr>\n",
              "      <th>5</th>\n",
              "      <td>(47209)</td>\n",
              "      <td>(13176)</td>\n",
              "      <td>0.023013</td>\n",
              "      <td>0.343750</td>\n",
              "      <td>2.808761</td>\n",
              "    </tr>\n",
              "    <tr>\n",
              "      <th>6</th>\n",
              "      <td>(9076)</td>\n",
              "      <td>(24852)</td>\n",
              "      <td>0.010460</td>\n",
              "      <td>0.454545</td>\n",
              "      <td>2.858852</td>\n",
              "    </tr>\n",
              "    <tr>\n",
              "      <th>7</th>\n",
              "      <td>(27845)</td>\n",
              "      <td>(24852)</td>\n",
              "      <td>0.011506</td>\n",
              "      <td>0.379310</td>\n",
              "      <td>2.385662</td>\n",
              "    </tr>\n",
              "    <tr>\n",
              "      <th>8</th>\n",
              "      <td>(45066)</td>\n",
              "      <td>(24852)</td>\n",
              "      <td>0.011506</td>\n",
              "      <td>0.392857</td>\n",
              "      <td>2.470865</td>\n",
              "    </tr>\n",
              "    <tr>\n",
              "      <th>9</th>\n",
              "      <td>(43352)</td>\n",
              "      <td>(16797)</td>\n",
              "      <td>0.010460</td>\n",
              "      <td>0.384615</td>\n",
              "      <td>7.071006</td>\n",
              "    </tr>\n",
              "  </tbody>\n",
              "</table>\n",
              "</div>"
            ],
            "text/plain": [
              "  antecedents consequents   support  confidence      lift\n",
              "0     (47766)     (24852)  0.016736    0.307692  1.935223\n",
              "1     (27966)     (13176)  0.015690    0.394737  3.225371\n",
              "2     (28204)     (24852)  0.014644    0.500000  3.144737\n",
              "3     (49683)     (24852)  0.010460    0.370370  2.329435\n",
              "4     (21903)     (24852)  0.025105    0.363636  2.287081\n",
              "5     (47209)     (13176)  0.023013    0.343750  2.808761\n",
              "6      (9076)     (24852)  0.010460    0.454545  2.858852\n",
              "7     (27845)     (24852)  0.011506    0.379310  2.385662\n",
              "8     (45066)     (24852)  0.011506    0.392857  2.470865\n",
              "9     (43352)     (16797)  0.010460    0.384615  7.071006"
            ]
          },
          "metadata": {
            "tags": []
          },
          "execution_count": 21
        }
      ]
    },
    {
      "cell_type": "code",
      "metadata": {
        "id": "gXap_qpkJ6_r",
        "colab_type": "code",
        "outputId": "5f3881be-845e-47d4-ba23-d0f6e1be68e3",
        "colab": {
          "base_uri": "https://localhost:8080/",
          "height": 110
        }
      },
      "source": [
        "association_rules(frequent_itemsets, metric='confidence', min_threshold=.4)"
      ],
      "execution_count": 0,
      "outputs": [
        {
          "output_type": "execute_result",
          "data": {
            "text/html": [
              "<div>\n",
              "<style scoped>\n",
              "    .dataframe tbody tr th:only-of-type {\n",
              "        vertical-align: middle;\n",
              "    }\n",
              "\n",
              "    .dataframe tbody tr th {\n",
              "        vertical-align: top;\n",
              "    }\n",
              "\n",
              "    .dataframe thead th {\n",
              "        text-align: right;\n",
              "    }\n",
              "</style>\n",
              "<table border=\"1\" class=\"dataframe\">\n",
              "  <thead>\n",
              "    <tr style=\"text-align: right;\">\n",
              "      <th></th>\n",
              "      <th>antecedents</th>\n",
              "      <th>consequents</th>\n",
              "      <th>antecedent support</th>\n",
              "      <th>consequent support</th>\n",
              "      <th>support</th>\n",
              "      <th>confidence</th>\n",
              "      <th>lift</th>\n",
              "      <th>leverage</th>\n",
              "      <th>conviction</th>\n",
              "    </tr>\n",
              "  </thead>\n",
              "  <tbody>\n",
              "    <tr>\n",
              "      <th>0</th>\n",
              "      <td>(28204)</td>\n",
              "      <td>(24852)</td>\n",
              "      <td>0.029289</td>\n",
              "      <td>0.158996</td>\n",
              "      <td>0.014644</td>\n",
              "      <td>0.500000</td>\n",
              "      <td>3.144737</td>\n",
              "      <td>0.009988</td>\n",
              "      <td>1.682008</td>\n",
              "    </tr>\n",
              "    <tr>\n",
              "      <th>1</th>\n",
              "      <td>(9076)</td>\n",
              "      <td>(24852)</td>\n",
              "      <td>0.023013</td>\n",
              "      <td>0.158996</td>\n",
              "      <td>0.010460</td>\n",
              "      <td>0.454545</td>\n",
              "      <td>2.858852</td>\n",
              "      <td>0.006801</td>\n",
              "      <td>1.541841</td>\n",
              "    </tr>\n",
              "  </tbody>\n",
              "</table>\n",
              "</div>"
            ],
            "text/plain": [
              "  antecedents consequents  antecedent support  ...      lift  leverage  conviction\n",
              "0     (28204)     (24852)            0.029289  ...  3.144737  0.009988    1.682008\n",
              "1      (9076)     (24852)            0.023013  ...  2.858852  0.006801    1.541841\n",
              "\n",
              "[2 rows x 9 columns]"
            ]
          },
          "metadata": {
            "tags": []
          },
          "execution_count": 49
        }
      ]
    },
    {
      "cell_type": "code",
      "metadata": {
        "id": "lTayHvYu7eAj",
        "colab_type": "code",
        "outputId": "3cd4ede7-025d-4aa9-bb07-0cd88b6c02fc",
        "colab": {
          "base_uri": "https://localhost:8080/",
          "height": 79
        }
      },
      "source": [
        "association_rules(frequent_itemsets, metric='confidence', min_threshold=.5)"
      ],
      "execution_count": 0,
      "outputs": [
        {
          "output_type": "execute_result",
          "data": {
            "text/html": [
              "<div>\n",
              "<style scoped>\n",
              "    .dataframe tbody tr th:only-of-type {\n",
              "        vertical-align: middle;\n",
              "    }\n",
              "\n",
              "    .dataframe tbody tr th {\n",
              "        vertical-align: top;\n",
              "    }\n",
              "\n",
              "    .dataframe thead th {\n",
              "        text-align: right;\n",
              "    }\n",
              "</style>\n",
              "<table border=\"1\" class=\"dataframe\">\n",
              "  <thead>\n",
              "    <tr style=\"text-align: right;\">\n",
              "      <th></th>\n",
              "      <th>antecedents</th>\n",
              "      <th>consequents</th>\n",
              "      <th>antecedent support</th>\n",
              "      <th>consequent support</th>\n",
              "      <th>support</th>\n",
              "      <th>confidence</th>\n",
              "      <th>lift</th>\n",
              "      <th>leverage</th>\n",
              "      <th>conviction</th>\n",
              "    </tr>\n",
              "  </thead>\n",
              "  <tbody>\n",
              "    <tr>\n",
              "      <th>0</th>\n",
              "      <td>(28204)</td>\n",
              "      <td>(24852)</td>\n",
              "      <td>0.029289</td>\n",
              "      <td>0.158996</td>\n",
              "      <td>0.014644</td>\n",
              "      <td>0.5</td>\n",
              "      <td>3.144737</td>\n",
              "      <td>0.009988</td>\n",
              "      <td>1.682008</td>\n",
              "    </tr>\n",
              "  </tbody>\n",
              "</table>\n",
              "</div>"
            ],
            "text/plain": [
              "  antecedents consequents  antecedent support  ...      lift  leverage  conviction\n",
              "0     (28204)     (24852)            0.029289  ...  3.144737  0.009988    1.682008\n",
              "\n",
              "[1 rows x 9 columns]"
            ]
          },
          "metadata": {
            "tags": []
          },
          "execution_count": 71
        }
      ]
    },
    {
      "cell_type": "markdown",
      "metadata": {
        "id": "gwdNF1YI7jkt",
        "colab_type": "text"
      },
      "source": [
        "Для алгоритму FP-росту спостерігаємо результат аналогічний попередньому. Зі збільшенням рівня порогу зменшується кількість АП та збільшується відсоток значущих серед них."
      ]
    },
    {
      "cell_type": "markdown",
      "metadata": {
        "id": "HJxhUTNU9DDW",
        "colab_type": "text"
      },
      "source": [
        "# 4. Зробити висновки щодо впливу параметрiв алгоритмiв Apriori та FP-росту на знайденi множини АП.\n",
        "\n",
        "По-перше, через відносно невелику величину набору даних для знаходження значущих АП необхідно надати невелике значення мінімальній підтримці. Інакше не вдається знайти ні одним алгоритмом значущі АП. \n",
        "\n",
        "По-друге, отримані часті набори містять невелку кількість продуктів, не більше двох. Тому для даної вибірки, налагодження параметру `max_len`, що встановлює максимальну потужність частих наборів не є доцільним.\n"
      ]
    },
    {
      "cell_type": "markdown",
      "metadata": {
        "id": "CcUEQ0hfT6hS",
        "colab_type": "text"
      },
      "source": [
        "# 5. Знайти значення прогнозу на основi побудованої множини правил\n",
        "\n",
        "Симулюємо ситуацію, коли покупець прийшов у магазин придбати певні товари з тих, що занесені у БД. За допомогою алгоритмів вище було знайдено АП, що можуть допомогти порекомендувати покупцю додатковий товар залежно від того, що вже є у кошику.\n"
      ]
    },
    {
      "cell_type": "code",
      "metadata": {
        "id": "jiuHnBOlz1U7",
        "colab_type": "code",
        "colab": {}
      },
      "source": [
        "def predict(assoc_rules, itemset):\n",
        "    '''\n",
        "    Make suggestions of products for the customer based on association rules\n",
        "    learned. If no rule corresponds to given itemset, the same itemset is \n",
        "    returned.\n",
        "\n",
        "    Parameters\n",
        "    -----------\n",
        "    ar: list\n",
        "        Association rules learned from previous transactions data. List contains\n",
        "        frozen sets of string ids of products customers often buy together. A\n",
        "        frozen set is the same as python set but immutable.\n",
        "    itemset: list\n",
        "        Product(s) the customer is going to buy.\n",
        "\n",
        "    Returns\n",
        "    -----------\n",
        "    matching_ar: list\n",
        "        Association rules that matched given itemset.\n",
        "    '''\n",
        "    matching_ar = pd.DataFrame()\n",
        "    for item in itemset:\n",
        "        ar = assoc_rules.loc[assoc_rules.antecedents.apply(lambda x: item in x)]\n",
        "        if not ar.empty:\n",
        "            matching_ar = pd.concat([matching_ar, ar])\n",
        "    return matching_ar"
      ],
      "execution_count": 0,
      "outputs": []
    },
    {
      "cell_type": "markdown",
      "metadata": {
        "id": "3euGQTO_ZIqK",
        "colab_type": "text"
      },
      "source": [
        "Виберемо 100 довільних товарів та знайдемо товари, що часто разом з ними придбаються використовуючи АП знайдені за допомогою алгоритму `Apriori`:"
      ]
    },
    {
      "cell_type": "code",
      "metadata": {
        "id": "6J32AVZEZBJH",
        "colab_type": "code",
        "colab": {
          "base_uri": "https://localhost:8080/",
          "height": 141
        },
        "outputId": "00f0e58e-7aed-4736-bc18-13e5cf39094d"
      },
      "source": [
        "predict(apriori_ar, transactions.product_id.sample(n=100).to_list())"
      ],
      "execution_count": 124,
      "outputs": [
        {
          "output_type": "execute_result",
          "data": {
            "text/html": [
              "<div>\n",
              "<style scoped>\n",
              "    .dataframe tbody tr th:only-of-type {\n",
              "        vertical-align: middle;\n",
              "    }\n",
              "\n",
              "    .dataframe tbody tr th {\n",
              "        vertical-align: top;\n",
              "    }\n",
              "\n",
              "    .dataframe thead th {\n",
              "        text-align: right;\n",
              "    }\n",
              "</style>\n",
              "<table border=\"1\" class=\"dataframe\">\n",
              "  <thead>\n",
              "    <tr style=\"text-align: right;\">\n",
              "      <th></th>\n",
              "      <th>antecedents</th>\n",
              "      <th>consequents</th>\n",
              "      <th>support</th>\n",
              "      <th>confidence</th>\n",
              "      <th>lift</th>\n",
              "    </tr>\n",
              "  </thead>\n",
              "  <tbody>\n",
              "    <tr>\n",
              "      <th>8</th>\n",
              "      <td>(49683)</td>\n",
              "      <td>(24852)</td>\n",
              "      <td>0.010460</td>\n",
              "      <td>0.37037</td>\n",
              "      <td>2.329435</td>\n",
              "    </tr>\n",
              "    <tr>\n",
              "      <th>4</th>\n",
              "      <td>(27845)</td>\n",
              "      <td>(24852)</td>\n",
              "      <td>0.011506</td>\n",
              "      <td>0.37931</td>\n",
              "      <td>2.385662</td>\n",
              "    </tr>\n",
              "    <tr>\n",
              "      <th>1</th>\n",
              "      <td>(47209)</td>\n",
              "      <td>(13176)</td>\n",
              "      <td>0.023013</td>\n",
              "      <td>0.34375</td>\n",
              "      <td>2.808761</td>\n",
              "    </tr>\n",
              "  </tbody>\n",
              "</table>\n",
              "</div>"
            ],
            "text/plain": [
              "  antecedents consequents   support  confidence      lift\n",
              "8     (49683)     (24852)  0.010460     0.37037  2.329435\n",
              "4     (27845)     (24852)  0.011506     0.37931  2.385662\n",
              "1     (47209)     (13176)  0.023013     0.34375  2.808761"
            ]
          },
          "metadata": {
            "tags": []
          },
          "execution_count": 124
        }
      ]
    },
    {
      "cell_type": "markdown",
      "metadata": {
        "colab_type": "text",
        "id": "Ylsgf7_eZdYM"
      },
      "source": [
        "Повторимо аналогічний експеримент для АП алгоритму FP-росту:"
      ]
    },
    {
      "cell_type": "code",
      "metadata": {
        "colab_type": "code",
        "id": "9LXbnDYSZdYQ",
        "colab": {
          "base_uri": "https://localhost:8080/",
          "height": 172
        },
        "outputId": "d1ff9753-7770-46e9-cbe5-754eb760fb60"
      },
      "source": [
        "predict(fp_growth_ar, transactions.product_id.sample(n=100).to_list())"
      ],
      "execution_count": 123,
      "outputs": [
        {
          "output_type": "execute_result",
          "data": {
            "text/html": [
              "<div>\n",
              "<style scoped>\n",
              "    .dataframe tbody tr th:only-of-type {\n",
              "        vertical-align: middle;\n",
              "    }\n",
              "\n",
              "    .dataframe tbody tr th {\n",
              "        vertical-align: top;\n",
              "    }\n",
              "\n",
              "    .dataframe thead th {\n",
              "        text-align: right;\n",
              "    }\n",
              "</style>\n",
              "<table border=\"1\" class=\"dataframe\">\n",
              "  <thead>\n",
              "    <tr style=\"text-align: right;\">\n",
              "      <th></th>\n",
              "      <th>antecedents</th>\n",
              "      <th>consequents</th>\n",
              "      <th>support</th>\n",
              "      <th>confidence</th>\n",
              "      <th>lift</th>\n",
              "    </tr>\n",
              "  </thead>\n",
              "  <tbody>\n",
              "    <tr>\n",
              "      <th>8</th>\n",
              "      <td>(45066)</td>\n",
              "      <td>(24852)</td>\n",
              "      <td>0.011506</td>\n",
              "      <td>0.392857</td>\n",
              "      <td>2.470865</td>\n",
              "    </tr>\n",
              "    <tr>\n",
              "      <th>0</th>\n",
              "      <td>(47766)</td>\n",
              "      <td>(24852)</td>\n",
              "      <td>0.016736</td>\n",
              "      <td>0.307692</td>\n",
              "      <td>1.935223</td>\n",
              "    </tr>\n",
              "    <tr>\n",
              "      <th>0</th>\n",
              "      <td>(47766)</td>\n",
              "      <td>(24852)</td>\n",
              "      <td>0.016736</td>\n",
              "      <td>0.307692</td>\n",
              "      <td>1.935223</td>\n",
              "    </tr>\n",
              "    <tr>\n",
              "      <th>7</th>\n",
              "      <td>(27845)</td>\n",
              "      <td>(24852)</td>\n",
              "      <td>0.011506</td>\n",
              "      <td>0.379310</td>\n",
              "      <td>2.385662</td>\n",
              "    </tr>\n",
              "  </tbody>\n",
              "</table>\n",
              "</div>"
            ],
            "text/plain": [
              "  antecedents consequents   support  confidence      lift\n",
              "8     (45066)     (24852)  0.011506    0.392857  2.470865\n",
              "0     (47766)     (24852)  0.016736    0.307692  1.935223\n",
              "0     (47766)     (24852)  0.016736    0.307692  1.935223\n",
              "7     (27845)     (24852)  0.011506    0.379310  2.385662"
            ]
          },
          "metadata": {
            "tags": []
          },
          "execution_count": 123
        }
      ]
    },
    {
      "cell_type": "markdown",
      "metadata": {
        "id": "eajHuc9BaSZH",
        "colab_type": "text"
      },
      "source": [
        "# 6. Порiвняти результати, отриманi алгоритмами Apriori та FP-росту.\n",
        "\n",
        "Підсумовуючи, слід зазначити, що як і сказано у роботі [[2]](https://doi.org/10.1023/B:DAMI.0000005258.31418.83) алгоритм FP-росту швидший за алгоритм Аpriori. Час роботи алгоритму Аpriori для різних варіантів підбору параметрів наведений у кодових клітинках за допомогою \"магічної функції\" %%time. "
      ]
    },
    {
      "cell_type": "markdown",
      "metadata": {
        "id": "HvGigrC7Ew_Q",
        "colab_type": "text"
      },
      "source": [
        "## Посилання:\n",
        "1. Agrawal, Rakesh; and Srikant, Ramakrishnan; [Fast algorithms for mining association rules in large databases](http://rakesh.agrawal-family.com/papers/vldb94apriori.pdf) Archived 2015-02-25 at the Wayback Machine, in Bocca, Jorge B.; Jarke, Matthias; and Zaniolo, Carlo; editors, Proceedings of the 20th International Conference on Very Large Data Bases (VLDB), Santiago, Chile, September 1994, pages 487-499\n",
        "2. Han, J., Pei, J., Yin, Y. et al. Mining Frequent Patterns without Candidate Generation: A Frequent-Pattern Tree Approach. Data Mining and Knowledge Discovery 8, 53–87 (2004). https://doi.org/10.1023/B:DAMI.0000005258.31418.83"
      ]
    }
  ]
}