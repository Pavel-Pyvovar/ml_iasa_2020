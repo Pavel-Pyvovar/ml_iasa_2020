{
  "nbformat": 4,
  "nbformat_minor": 0,
  "metadata": {
    "colab": {
      "name": "ml_lab1.ipynb",
      "provenance": [],
      "collapsed_sections": [],
      "authorship_tag": "ABX9TyMXZF+EdWky3Wr1V71aAF3x",
      "include_colab_link": true
    },
    "kernelspec": {
      "name": "python3",
      "display_name": "Python 3"
    }
  },
  "cells": [
    {
      "cell_type": "markdown",
      "metadata": {
        "id": "view-in-github",
        "colab_type": "text"
      },
      "source": [
        "<a href=\"https://colab.research.google.com/github/Pavel-Pyvovar/ml_iasa_2020/blob/master/ml_lab1.ipynb\" target=\"_parent\"><img src=\"https://colab.research.google.com/assets/colab-badge.svg\" alt=\"Open In Colab\"/></a>"
      ]
    },
    {
      "cell_type": "markdown",
      "metadata": {
        "id": "SXlbPQcOjxqu",
        "colab_type": "text"
      },
      "source": [
        "# Варіант 14"
      ]
    },
    {
      "cell_type": "code",
      "metadata": {
        "id": "GNuiJ1SeE6Bl",
        "colab_type": "code",
        "colab": {}
      },
      "source": [
        "import numpy as np"
      ],
      "execution_count": 0,
      "outputs": []
    },
    {
      "cell_type": "markdown",
      "metadata": {
        "id": "5tJPkCMOjWc-",
        "colab_type": "text"
      },
      "source": [
        "Задано неорiєнтовний граф $G$ з $V$ вершинами, де ваги дуг $d_{ij}$ вiдомi для\n",
        "$∀i, j = 1, ..., V$ . Побудувати пiдграф $J$ графу $G$, використовуючи наступнi\n",
        "кроки:\n",
        "\n",
        "1. Вiдсортувати ребра в порядку зростання їх ваг. $J :=$ ∅.\n",
        "\n",
        "2. Додати ребро до $J$, якщо воно не утворює цикл з наявними ребрами.\n",
        "\n",
        "3. Виконувати крок 2 до тих пiр поки до $J$ не буде додано $V − 1$ ребро.   "
      ]
    },
    {
      "cell_type": "markdown",
      "metadata": {
        "id": "QQYbNEpoajWX",
        "colab_type": "text"
      },
      "source": [
        "![image.png](data:image/png;base64,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)"
      ]
    },
    {
      "cell_type": "code",
      "metadata": {
        "id": "tPsngwqw_Z7K",
        "colab_type": "code",
        "colab": {}
      },
      "source": [
        "graph = {\n",
        "    'v1': ['e12', 'e14'],\n",
        "    'v2': ['e21', 'e23', 'e24', 'e25'],\n",
        "    'v3': ['e32', 'e35'],\n",
        "    'v4': ['e41', 'e42', 'e45', 'e46'],\n",
        "    'v5': ['e52', 'e53', 'e54', 'e56', 'e57'],\n",
        "    'v6': ['e64', 'e65', 'e67'],\n",
        "    'v7': ['e75', 'e76']\n",
        "}\n",
        "\n",
        "edges = {\n",
        "    'e12': 7,\n",
        "    'e14': 5,\n",
        "    'e24': 9,\n",
        "    'e25': 7,\n",
        "    'e23': 8,\n",
        "    'e35': 5,\n",
        "    'e45': 15,\n",
        "    'e46': 6,\n",
        "    'e56': 8,\n",
        "    'e57': 9,\n",
        "    'e67': 11\n",
        "}\n"
      ],
      "execution_count": 0,
      "outputs": []
    },
    {
      "cell_type": "code",
      "metadata": {
        "id": "gZeuxku3P9Zt",
        "colab_type": "code",
        "colab": {}
      },
      "source": [
        "def get_by_val(dct, val):\n",
        "  \"\"\"\n",
        "  Get dict key by its value.\n",
        "  Params:\n",
        "    dct -- python dict\n",
        "    val -- value int the dct\n",
        "  Returns:\n",
        "    key that corresponds to val\n",
        "  \"\"\"\n",
        "  for key in dct:\n",
        "    if dct[key] == val:\n",
        "      return key"
      ],
      "execution_count": 0,
      "outputs": []
    },
    {
      "cell_type": "code",
      "metadata": {
        "id": "msq-fFVShqCD",
        "colab_type": "code",
        "colab": {}
      },
      "source": [
        "def find_set(v, s):\n",
        "  \"\"\"\n",
        "  Find set that contains vertex v\n",
        "  in a disjoint set.\n",
        "  Params:\n",
        "    v -- vertex, element\n",
        "    s -- disjoint set (list of lists)\n",
        "  Returns:\n",
        "    list from s that contains vertex v\n",
        "  \"\"\"\n",
        "  for ls in s:\n",
        "    if v in ls:\n",
        "      return ls "
      ],
      "execution_count": 0,
      "outputs": []
    },
    {
      "cell_type": "code",
      "metadata": {
        "id": "GKOhWIRsihvf",
        "colab_type": "code",
        "colab": {}
      },
      "source": [
        "def union(u, v, s):\n",
        "  \"\"\"\n",
        "  Concatenate lists that contain given vertices.\n",
        "  Params:\n",
        "    u, v -- two connected vectices of the graph\n",
        "    s -- disjoint set\n",
        "  Returns:\n",
        "    The same disjoint set as s but with two sets\n",
        "    containing u and v merged.\n",
        "  \"\"\"\n",
        "  ls1 = find_set(u, s)\n",
        "  ls2 = find_set(v, s)\n",
        "  s.remove(ls1)\n",
        "  s.remove(ls2)\n",
        "  s.append(ls1 + ls2)\n",
        "  return s"
      ],
      "execution_count": 0,
      "outputs": []
    },
    {
      "cell_type": "code",
      "metadata": {
        "id": "0XN2Kz1R-nfa",
        "colab_type": "code",
        "colab": {}
      },
      "source": [
        "def kruskal(graph, edges):\n",
        "  \"\"\"\n",
        "  Find a minimum spanning tree in a weighted undirected\n",
        "  acyclic connected graph G.\n",
        "  Params:\n",
        "    G -- dict, keys: vertex symbols (vi), values: list of incedent adges.\n",
        "    w -- dict, keys: edge symbols (eij), values: weight (int).\n",
        "  Returns:\n",
        "    MST -- minimum spanning tree, the same data structure as G.\n",
        "  \"\"\"\n",
        "  MST = {v: [] for v in graph}\n",
        "  forest = [[v] for v in graph]\n",
        "  weights = sorted(edges.values())\n",
        "  for w in weights:\n",
        "    e = get_by_val(edges, w)\n",
        "    i, j = e[1], e[2]\n",
        "    if find_set(f'v{i}', forest) != find_set(f'v{j}', forest):\n",
        "      MST[f'v{i}'].append(e)\n",
        "      MST[f'v{j}'].append(e)\n",
        "      forest = union(f'v{i}', f'v{j}', forest)\n",
        "  return MST"
      ],
      "execution_count": 0,
      "outputs": []
    },
    {
      "cell_type": "code",
      "metadata": {
        "id": "KzmMEHWjZz0H",
        "colab_type": "code",
        "outputId": "b73e6139-29db-445c-f101-382ec9ed9136",
        "colab": {
          "base_uri": "https://localhost:8080/",
          "height": 140
        }
      },
      "source": [
        "kruskal(graph, edges)"
      ],
      "execution_count": 22,
      "outputs": [
        {
          "output_type": "execute_result",
          "data": {
            "text/plain": [
              "{'v1': ['e14', 'e12'],\n",
              " 'v2': ['e12', 'e23'],\n",
              " 'v3': ['e23'],\n",
              " 'v4': ['e14', 'e46', 'e45'],\n",
              " 'v5': ['e45'],\n",
              " 'v6': ['e46', 'e67'],\n",
              " 'v7': ['e67']}"
            ]
          },
          "metadata": {
            "tags": []
          },
          "execution_count": 22
        }
      ]
    },
    {
      "cell_type": "markdown",
      "metadata": {
        "colab_type": "text",
        "id": "KtspxFRU2hm1"
      },
      "source": [
        "![image.png](data:image/png;base64,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)"
      ]
    },
    {
      "cell_type": "markdown",
      "metadata": {
        "id": "0Vh4WYEMxf04",
        "colab_type": "text"
      },
      "source": [
        "# Q&A"
      ]
    },
    {
      "cell_type": "code",
      "metadata": {
        "id": "BCyXO1TBwFIZ",
        "colab_type": "code",
        "outputId": "50a9412f-689b-41de-a0e0-7aa87db15e54",
        "colab": {
          "base_uri": "https://localhost:8080/",
          "height": 52
        }
      },
      "source": [
        "x = np.random.rand(3, 3, 3)\n",
        "print(x[:, np.newaxis, :, :].shape)\n",
        "np.expand_dims(x, 1).shape"
      ],
      "execution_count": 0,
      "outputs": [
        {
          "output_type": "stream",
          "text": [
            "(3, 1, 3, 3)\n"
          ],
          "name": "stdout"
        },
        {
          "output_type": "execute_result",
          "data": {
            "text/plain": [
              "(3, 1, 3, 3)"
            ]
          },
          "metadata": {
            "tags": []
          },
          "execution_count": 15
        }
      ]
    },
    {
      "cell_type": "code",
      "metadata": {
        "id": "kLFnLEcwxs_F",
        "colab_type": "code",
        "outputId": "9fc06d21-6d69-445b-823b-41e345894d39",
        "colab": {
          "base_uri": "https://localhost:8080/",
          "height": 52
        }
      },
      "source": [
        "x = np.random.rand(5)\n",
        "y = np.random.rand(5)\n",
        "print(x, y)\n",
        "np.concatenate((x, y))"
      ],
      "execution_count": 0,
      "outputs": [
        {
          "output_type": "stream",
          "text": [
            "[0.95 0.85 0.78 0.24 0.19] [0.64 0.62 0.04 0.54 0.6 ]\n"
          ],
          "name": "stdout"
        },
        {
          "output_type": "execute_result",
          "data": {
            "text/plain": [
              "array([0.95, 0.85, 0.78, 0.24, 0.19, 0.64, 0.62, 0.04, 0.54, 0.6 ])"
            ]
          },
          "metadata": {
            "tags": []
          },
          "execution_count": 16
        }
      ]
    },
    {
      "cell_type": "code",
      "metadata": {
        "id": "NTFfrabXx7F_",
        "colab_type": "code",
        "outputId": "c64fbe40-ee77-40a6-d2d9-da95ea6c9d10",
        "colab": {
          "base_uri": "https://localhost:8080/",
          "height": 193
        }
      },
      "source": [
        "x.tolist() + y.tolist()"
      ],
      "execution_count": 0,
      "outputs": [
        {
          "output_type": "execute_result",
          "data": {
            "text/plain": [
              "[0.948187459070408,\n",
              " 0.8503860250986834,\n",
              " 0.7845952939794388,\n",
              " 0.24145530108429536,\n",
              " 0.19419031699338918,\n",
              " 0.6353662700813787,\n",
              " 0.617543088309151,\n",
              " 0.042950356542567625,\n",
              " 0.5412641640842555,\n",
              " 0.5984719986081845]"
            ]
          },
          "metadata": {
            "tags": []
          },
          "execution_count": 20
        }
      ]
    },
    {
      "cell_type": "code",
      "metadata": {
        "id": "4Vrcsg5DyCca",
        "colab_type": "code",
        "outputId": "acbb8f73-84cd-43db-e8b6-95e0896692e8",
        "colab": {
          "base_uri": "https://localhost:8080/",
          "height": 175
        }
      },
      "source": [
        "x = np.random.rand(3, 3)\n",
        "y = np.random.rand(3, 3)\n",
        "print(x)\n",
        "print(y)\n",
        "np.concatenate((x, y), axis=1)"
      ],
      "execution_count": 0,
      "outputs": [
        {
          "output_type": "stream",
          "text": [
            "[[0.51 0.56 0.65]\n",
            " [0.45 0.52 0.86]\n",
            " [0.29 0.16 0.64]]\n",
            "[[0.41 0.47 0.16]\n",
            " [0.7  0.03 0.48]\n",
            " [0.43 0.03 0.33]]\n"
          ],
          "name": "stdout"
        },
        {
          "output_type": "execute_result",
          "data": {
            "text/plain": [
              "array([[0.51, 0.56, 0.65, 0.41, 0.47, 0.16],\n",
              "       [0.45, 0.52, 0.86, 0.7 , 0.03, 0.48],\n",
              "       [0.29, 0.16, 0.64, 0.43, 0.03, 0.33]])"
            ]
          },
          "metadata": {
            "tags": []
          },
          "execution_count": 22
        }
      ]
    },
    {
      "cell_type": "code",
      "metadata": {
        "id": "js22S-88ya6D",
        "colab_type": "code",
        "outputId": "929e7607-57e3-4628-d888-85577b54ee33",
        "colab": {
          "base_uri": "https://localhost:8080/",
          "height": 369
        }
      },
      "source": [
        "x = np.random.rand(4, 1)\n",
        "y = np.random.rand(4, 1)\n",
        "print(x)\n",
        "print(y)\n",
        "\n",
        "print(np.vstack((x, y)))\n",
        "print(np.hstack((x, y)))\n"
      ],
      "execution_count": 0,
      "outputs": [
        {
          "output_type": "stream",
          "text": [
            "[[0.99]\n",
            " [0.78]\n",
            " [0.06]\n",
            " [0.01]]\n",
            "[[0.57]\n",
            " [0.14]\n",
            " [0.5 ]\n",
            " [0.29]]\n",
            "[[0.99]\n",
            " [0.78]\n",
            " [0.06]\n",
            " [0.01]\n",
            " [0.57]\n",
            " [0.14]\n",
            " [0.5 ]\n",
            " [0.29]]\n",
            "[[0.99 0.57]\n",
            " [0.78 0.14]\n",
            " [0.06 0.5 ]\n",
            " [0.01 0.29]]\n"
          ],
          "name": "stdout"
        }
      ]
    },
    {
      "cell_type": "code",
      "metadata": {
        "id": "7HafXOXnzr3U",
        "colab_type": "code",
        "outputId": "ff0788f0-55dc-4851-ece6-7d42bda99986",
        "colab": {
          "base_uri": "https://localhost:8080/",
          "height": 140
        }
      },
      "source": [
        "np.vsplit(np.vstack((x, y)), 2 )"
      ],
      "execution_count": 0,
      "outputs": [
        {
          "output_type": "execute_result",
          "data": {
            "text/plain": [
              "[array([[0.99],\n",
              "        [0.78],\n",
              "        [0.06],\n",
              "        [0.01]]), array([[0.57],\n",
              "        [0.14],\n",
              "        [0.5 ],\n",
              "        [0.29]])]"
            ]
          },
          "metadata": {
            "tags": []
          },
          "execution_count": 36
        }
      ]
    },
    {
      "cell_type": "code",
      "metadata": {
        "id": "SelTRuOj0VfE",
        "colab_type": "code",
        "outputId": "12751499-5b14-4c0c-b72c-be9a687235bf",
        "colab": {
          "base_uri": "https://localhost:8080/",
          "height": 140
        }
      },
      "source": [
        "np.hsplit(np.hstack((x, y)), 2 )"
      ],
      "execution_count": 0,
      "outputs": [
        {
          "output_type": "execute_result",
          "data": {
            "text/plain": [
              "[array([[0.99],\n",
              "        [0.78],\n",
              "        [0.06],\n",
              "        [0.01]]), array([[0.57],\n",
              "        [0.14],\n",
              "        [0.5 ],\n",
              "        [0.29]])]"
            ]
          },
          "metadata": {
            "tags": []
          },
          "execution_count": 37
        }
      ]
    },
    {
      "cell_type": "code",
      "metadata": {
        "id": "WRZ263qB1mjm",
        "colab_type": "code",
        "colab": {}
      },
      "source": [
        ""
      ],
      "execution_count": 0,
      "outputs": []
    }
  ]
}